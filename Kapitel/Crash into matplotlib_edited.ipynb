{
 "cells": [
  {
   "cell_type": "markdown",
   "metadata": {},
   "source": [
    "# AKGI - Crash into `matplotlib`\n"
   ]
  },
  {
   "cell_type": "markdown",
   "metadata": {},
   "source": [
    "## Daten visualisieren \n",
    "\n",
    "Eine für uns Menschen gut fassbare Art der Interprätation und Möglichkeit zur Exploration von komplexen Datenmengen besteht in der Visualisierung eben dieser Informationen. Beim Machine Learning geht es um Daten, deren Manipulation und Transformation. Die Visualisierung ist daher eine elementare Fähigkeit in diesem Kontext. Durch die Visualisierung von Daten können generell zwei Aspekte umgesetzt werden: \n",
    "\n",
    "1. _Erkunden_ einer Datenmenge\n",
    "2. _Kommunizieren_ von Informationen, die in den Daten enthalten sind\n",
    "\n",
    "Wir beschränken uns im Folgenden auf basale Diagrammtypen, die Sie kennen sollten. Hierzu verwenden wir das Modul [`matplotlib`](http://matplotlib.org/)."
   ]
  },
  {
   "cell_type": "code",
   "execution_count": null,
   "metadata": {
    "collapsed": false
   },
   "outputs": [],
   "source": [
    "# %matplotlib inline you need that command to plot inside the notebook\n",
    "%matplotlib inline\n",
    "\n",
    "# imports\n",
    "import matplotlib.pyplot as plt\n",
    "import numpy as np"
   ]
  },
  {
   "cell_type": "markdown",
   "metadata": {},
   "source": [
    "Um einen erstel leeren Plot zu erstellen benötigen Sie nicht viel. Ein Container der Klasse [`matplotlib.figure`](http://matplotlib.org/api/figure_api.html?highlight=figure#matplotlib.figure.Figure), welcher ein Koordinatensystem [`matplotlib.axes`](http://matplotlib.org/api/axes_api.html) enthält."
   ]
  },
  {
   "cell_type": "code",
   "execution_count": null,
   "metadata": {
    "collapsed": false
   },
   "outputs": [],
   "source": [
    "# create an empty plot\n",
    "fig = plt.figure()\n",
    "fig.add_axes(plt.axes())"
   ]
  },
  {
   "cell_type": "markdown",
   "metadata": {},
   "source": [
    "Die generelle Erscheinung des Plots lässt sich über Template beeinflussen und den [individuellen Bedürfnissen anpassen](http://matplotlib.org/users/style_sheets.html). Probieren Sie ein paar Varianten aus und entscheiden Sie sich für ein Template"
   ]
  },
  {
   "cell_type": "code",
   "execution_count": null,
   "metadata": {
    "collapsed": false
   },
   "outputs": [],
   "source": [
    "# prints available out-of-the-box styles \n",
    "print(plt.style.available)\n",
    "\n",
    "# choose a diffrent style and plot an example\n",
    "plt.style.use('seaborn-whitegrid')\n",
    "fig = plt.figure()\n",
    "ax = plt.axes()"
   ]
  },
  {
   "cell_type": "markdown",
   "metadata": {},
   "source": [
    "## Liniendiagramme"
   ]
  },
  {
   "cell_type": "code",
   "execution_count": null,
   "metadata": {
    "collapsed": false
   },
   "outputs": [],
   "source": [
    "# single line plot\n",
    "# set values for x and y coordinates \n",
    "x = np.linspace(0, 2 * np.pi, 400)\n",
    "y = np.sin(x)\n",
    "\n",
    "# create axes and plot the coordinates\n",
    "ax = plt.axes()\n",
    "ax.plot(x, y)"
   ]
  },
  {
   "cell_type": "markdown",
   "metadata": {},
   "source": [
    "Falls es Ihnen auf gefallen ist, haben wir oben das Modul `matplotlib.pyplot` importiert und nicht `matplotlib`. Das Modul `matplotlib.pyplot` immitiert die Funktion von MATLAB. Beim erstellen eines Plots werden durch dieses Modul einige Schritte impliziet erledigt und man muss nicht immer einen Container und ein Koordinatensystem anlegen. In `matplotlib.pyplot` wird der Zustand des aktuellen Containers gespeichert und Änderungen direkt in das Koordinatensystem übernommen. Wir können uns also ein paar Code-Zeilen in diesem Notebook sparen, da die Initialisierung einfacher ist. Für tiefere Informationen zu `matplotlib.pyplot` kann man die [Referenzseite](http://matplotlib.org/api/pyplot_api.html#matplotlib.pyplot.plot) oder das [Tutorial von Matplotlib](http://matplotlib.org/users/pyplot_tutorial.html) besuchen.\n",
    "\n",
    "Mit der Funktion `plot()`, welche in `matplotlib.pyplot` beliebig viele Argumente annehmen kann, können wir direkt nun einen Darstellung erzeugen."
   ]
  },
  {
   "cell_type": "code",
   "execution_count": null,
   "metadata": {
    "collapsed": false
   },
   "outputs": [],
   "source": [
    "# multiple line plot \n",
    "x = np.linspace(0, 2 * np.pi, 400)\n",
    "\n",
    "# create axes and plot two functions\n",
    "plt.plot(x, np.sin(x), x, np.cos(x))"
   ]
  },
  {
   "cell_type": "markdown",
   "metadata": {},
   "source": [
    "Die Diagramme, welche man mit Matplotlib erzeugt kann man vielfälltig individualisiern. Als erstes sei hier die Beschriftung des Diagramms vorgestellt. `TeX` kann verwendet werden um [mathematische Notationen](http://matplotlib.org/users/mathtext.html) umzusetzten. In den weiteren Beispielen wird gezeigt, wie die Farbe manipuliert, die Linienart verändert und Marker hinzugefügt werden."
   ]
  },
  {
   "cell_type": "code",
   "execution_count": null,
   "metadata": {
    "collapsed": false
   },
   "outputs": [],
   "source": [
    "# adding title, labels, legend\n",
    "x = np.linspace(0, 2 * np.pi, 400)\n",
    "\n",
    "# plot the functions\n",
    "plt.plot(x, x, label=r\"$x$\")\n",
    "plt.plot(x, x**2, label=r\"$x^2$\")\n",
    "plt.plot(x, x**3, label=r\"$x^3$\")\n",
    "\n",
    "# set annotations \n",
    "plt.xlabel(r'$x$', fontsize=12)\n",
    "plt.ylabel(r'$y$', fontsize=12)\n",
    "plt.title('two function plot');  \n",
    "plt.legend(loc=2)                    # legend at the upper left corner"
   ]
  },
  {
   "cell_type": "code",
   "execution_count": null,
   "metadata": {
    "collapsed": false
   },
   "outputs": [],
   "source": [
    "# change line color \n",
    "plt.plot(x, np.sin(x - 1), color='blue')        # specify color by name\n",
    "plt.plot(x, np.sin(x - 2), color='g')           # short color code (options: rgbcmyk)\n",
    "plt.plot(x, np.sin(x - 3), color='0.75')        # Greyscale between 0 and 1\n",
    "plt.plot(x, np.sin(x - 4), color='#FFDD44')     # Hex color code (RRGGBB from 00 to FF)\n",
    "plt.plot(x, np.sin(x - 5), color=(1.0,0.2,0.3)) # RGB tuple, values between 0 and 1"
   ]
  },
  {
   "cell_type": "code",
   "execution_count": null,
   "metadata": {
    "collapsed": false
   },
   "outputs": [],
   "source": [
    "# change line style - http://matplotlib.org/api/lines_api.html#matplotlib.lines.Line2D.set_linestyle\n",
    "\n",
    "# set linewidth\n",
    "plt.plot(x, x+1, linewidth=0.25)\n",
    "plt.plot(x, x+2, linewidth=0.50)\n",
    "plt.plot(x, x+3, lw=1.00)\n",
    "plt.plot(x, x+4, lw=2.00)\n",
    "\n",
    "# possible linestype options ‘-‘, ‘–’, ‘-.’, ‘:’, ‘steps’ \n",
    "plt.plot(x, x+5, lw=2, linestyle='-')\n",
    "plt.plot(x, x+6, lw=2, ls='--')\n",
    "plt.plot(x, x+7, lw=2, ls='-.')\n",
    "plt.plot(x, x+8, lw=2, ls=':')"
   ]
  },
  {
   "cell_type": "code",
   "execution_count": null,
   "metadata": {
    "collapsed": false
   },
   "outputs": [],
   "source": [
    "# you can combine color and linestyle in one attribute\n",
    "plt.plot(x, x, 'g-.', lw=2)\n",
    "plt.plot(x, x+1, 'y:', lw=2)"
   ]
  },
  {
   "cell_type": "code",
   "execution_count": null,
   "metadata": {
    "collapsed": false
   },
   "outputs": [],
   "source": [
    "# markers (http://matplotlib.org/api/lines_api.html#matplotlib.lines.Line2D.set_marker)\n",
    "\n",
    "# possible marker symbols: '+', 'o', '*', 's', ',', '.'\n",
    "plt.plot(x, x+1, marker='+', markevery=75)\n",
    "plt.plot(x, x+2, marker='o', markevery=75)\n",
    "plt.plot(x, x+3, marker='s', markevery=75)\n",
    "plt.plot(x, x+4, marker='.', markevery=75)\n",
    "plt.plot(x, x+5, marker='*', markevery=75)\n",
    "\n",
    "# marker size and color\n",
    "plt.plot(x, x+7, color=\"purple\", marker='o', markersize=6, markevery=75)\n",
    "plt.plot(x, x+8, color=\"purple\", marker='s', markersize=8, markerfacecolor=\"blue\", markeredgecolor=\"yellow\", markevery=75)"
   ]
  },
  {
   "cell_type": "markdown",
   "metadata": {},
   "source": [
    "### !Aufgabe:\n",
    "Erstellen Sie einen Plot der folgendem Bild entspricht. `total error` entspricht der Summe aus `variance` und `bias`.\n",
    "\n",
    "<img src=\"img/Aufgabe1.png\">"
   ]
  },
  {
   "cell_type": "code",
   "execution_count": null,
   "metadata": {
    "collapsed": false
   },
   "outputs": [],
   "source": [
    "variance     = [1,2,4,8,16,32,64,128,256]\n",
    "bias_squared = variance[::-1]\n",
    "\n",
    "# Summe von den beiden Oberen mit numpy-Funktion\n",
    "total_error = np.add(variance, bias_squared)\n",
    "\n",
    "# 0 bis 8\n",
    "x = range(9)\n",
    "\n",
    "# plotten\n",
    "plt.plot(x, variance, label=r\"variance\", color=\"green\")\n",
    "plt.plot(x, bias_squared, label=r\"bias$^2$\", color=\"red\", ls='-.')\n",
    "plt.plot(x, total_error, label=r\"total error\", color=\"blue\", ls=':')\n",
    "\n",
    "# Text schreiben\n",
    "plt.xlabel(r'model complexity', fontsize=12)\n",
    "plt.title('Bias Variance Tradeoff');  \n",
    "plt.legend(loc=9)                    # legend at the upper center\n",
    "    "
   ]
  },
  {
   "cell_type": "markdown",
   "metadata": {},
   "source": [
    "## Multiple Plots in einem Container\n",
    "\n",
    "Sofern Sie mehr als einen Plot zeichnen wollen, wird es notwendig sich wieder selbst um den Container und die Koordinatensysteme zu kümmern. Es gibt hier die Option ein Plot im Plot zu zeichnen oder mehrere Plots gleichberechtigt neben einander darzustellen. Als erstes betrachten wir die Möglichkeit einen Plot im Plot darzustellen. Hierzu definieren wir die genau Position des Koordinatensystems im Container bei der Initialisierung."
   ]
  },
  {
   "cell_type": "code",
   "execution_count": null,
   "metadata": {
    "collapsed": false
   },
   "outputs": [],
   "source": [
    "# some function\n",
    "x = np.linspace(0, 1,25 * np.pi, 400)\n",
    "y = x ** 2\n",
    "\n",
    "# create an container\n",
    "fig = plt.figure()\n",
    "\n",
    "# add two grids with specific position [left, bottom, width, height] to the container\n",
    "main_axes = fig.add_axes([0.1, 0.1, 0.8, 0.8]) # main axes\n",
    "inserted_axes = fig.add_axes([0.2, 0.5, 0.4, 0.3]) # insert axes\n",
    "\n",
    "# plot main figure\n",
    "main_axes.plot(x, y, 'b')\n",
    "main_axes.set_title('main plot')\n",
    "\n",
    "# plot insert figure\n",
    "inserted_axes.plot(y, x, 'y')\n",
    "inserted_axes.set_title('inserted plot');"
   ]
  },
  {
   "cell_type": "markdown",
   "metadata": {},
   "source": [
    "Multiple Plots gleichberechtigt in einem Container zu positionieren, kann über die Initialisierung des Containers selbst realisiert werden. Hierzu verwenden wird die Funktion [`subplots`](http://matplotlib.org/api/pyplot_api.html?highlight=subplot#matplotlib.pyplot.subplot), die eine Unterteilung des Containers ermöglicht. Die Positionierung kann auf verschiedene Arten erfolgen, es wird im Folgenden nur eine Variante gezeigt. Für tiefere Kenntnis können Sie die ausführliche `matplotlib`-[Demo](http://matplotlib.org/examples/pylab_examples/subplots_demo.html) zu `subplots` anschauen."
   ]
  },
  {
   "cell_type": "code",
   "execution_count": null,
   "metadata": {
    "collapsed": false
   },
   "outputs": [],
   "source": [
    "# some function\n",
    "x = np.linspace(0, 2 * np.pi, 400)\n",
    "y = x \n",
    "\n",
    "# create a figure with specific rows and colums\n",
    "fig, axes = plt.subplots(nrows=2, ncols=2)\n",
    "\n",
    "# plot grids and define position via [row,colum]\n",
    "axes[0,0].plot(x, y + 2)\n",
    "axes[0,1].plot(x, y % 2)\n",
    "axes[1,0].plot(x, y ** 2)\n",
    "axes[1,1].plot(x, y / 2)\n"
   ]
  },
  {
   "cell_type": "code",
   "execution_count": null,
   "metadata": {
    "collapsed": false
   },
   "outputs": [],
   "source": [
    "# twin axes \n",
    "fig, ax = plt.subplots()\n",
    "\n",
    "# plot x^2 in red\n",
    "ax.plot(x, x**2, 'r-.')\n",
    "ax.set_ylabel(r\"area $m^2$\", color='r')\n",
    "for label in ax.get_yticklabels():\n",
    "    label.set_color('r')\n",
    "    \n",
    "# plot x^3 in the same grid with an additional axes\n",
    "ax_twin = ax.twinx()\n",
    "ax_twin.plot(x, x**3, 'b--')\n",
    "ax_twin.set_ylabel(r\"volume $m^3$\", color=\"b\")\n",
    "for label in ax_twin.get_yticklabels():\n",
    "    label.set_color('b')"
   ]
  },
  {
   "cell_type": "markdown",
   "metadata": {},
   "source": [
    "## Manipulation des Koordinatensystems\n",
    "\n",
    "Bisher hat `matplotlib` für Sie die Sklaierung der Achsen übernommen. Sie können diese jedoch auch selbst setzen oder ausschließlich eine gewünschten Ausschnitt des Plots darstellen. Einen Möglichkeit zur Manipulation der Achsen führt über [`matplotlib.axes`](http://matplotlib.org/api/axes_api.html)."
   ]
  },
  {
   "cell_type": "code",
   "execution_count": null,
   "metadata": {
    "collapsed": false
   },
   "outputs": [],
   "source": [
    "fig, ax = plt.subplots(1, 3, figsize=(12, 4))\n",
    "\n",
    "# default matplotlib plot\n",
    "ax[0].plot(x, x**2, x, x**3)\n",
    "ax[0].set_title(\"default range\")\n",
    "\n",
    "# set axes by option: ‘on’, ‘off’, ‘equal’, ‘tight’, ‘scaled’, ‘auto’, ‘image’, ‘square’\n",
    "ax[1].plot(x, x**2, x, x**3)\n",
    "ax[1].axis('tight')\n",
    "ax[1].set_title(\"option: tight \")\n",
    "\n",
    "# customize axes with individual values [min x, max x, min y, max y]\n",
    "ax[2].plot(x, x**2, x, x**3)\n",
    "ax[2].axis([3,5,0,60])\n",
    "ax[2].set_title(\"custom range\");"
   ]
  },
  {
   "cell_type": "markdown",
   "metadata": {},
   "source": [
    "Eine weitere Option zur Manipluation der Achsen sind die Funktion `xlim` und `ylim` auf dem pyplot-Objekt oder als `set_xlim` bzw. `set_ylim` auf dem Koordinatensystem-Objekt. Durch die Angabe von Minimum und Maximum kann man für die Achsen separat ein gewünschtes Intervall setzen."
   ]
  },
  {
   "cell_type": "code",
   "execution_count": null,
   "metadata": {
    "collapsed": false
   },
   "outputs": [],
   "source": [
    "# shifting axes \n",
    "fig, ax = plt.subplots(1, 2, figsize=(12, 4))\n",
    "\n",
    "# manipulate grid object\n",
    "ax[0].plot(x, x**2, x, x**3)\n",
    "ax[0].set_xlim(-2,8)\n",
    "ax[0].set_title('custom range')\n",
    "\n",
    "# manipulate pyplot object\n",
    "plt.plot(x, x**2, x, x**3)\n",
    "plt.xlim(10, 0)\n",
    "plt.title('reverese x axis')"
   ]
  },
  {
   "cell_type": "markdown",
   "metadata": {},
   "source": [
    "Die Darstellung der Achsen-Intervalle war bisher immer linear, also mit einen konstanten Entwicklung relativ zum Abstand. Es exisiteren jedoch weitere Varianten, beispielsweise eine logarithmische Skalierung. Diese lässt sich über `set_yscale` bzw. `set_xscale` definieren.  "
   ]
  },
  {
   "cell_type": "code",
   "execution_count": null,
   "metadata": {
    "collapsed": false
   },
   "outputs": [],
   "source": [
    "# scaling axes\n",
    "fig, ax = plt.subplots(1, 2, figsize=(12,4))\n",
    "      \n",
    "# normal scale \n",
    "ax[0].plot(x, x**2, x, np.exp(x))\n",
    "ax[0].set_title('normal scale')\n",
    "\n",
    "# scale options: ‘linear’, ‘log’, ‘logit’, ‘symlog’\n",
    "ax[1].plot(x, x**2, x, np.exp(x))\n",
    "ax[1].set_yscale('log')\n",
    "ax[1].set_title('Logarithmic scale (y)');"
   ]
  },
  {
   "cell_type": "markdown",
   "metadata": {},
   "source": [
    "Keine Manipulation der Achsen, aber dennoch sehr praktisch, ist es Beschriftungen im Koordinatensystem hinzuzufügen. Dieses erreicht man über [`text`](http://matplotlib.org/api/axes_api.html?highlight=set_xscale#matplotlib.axes.Axes.text) auf dem Koordinatensystem-Objekt. Der Text muss händisch an der gewünschten Position platziert werden und kann über entsprechende Parameter gestaltet werden."
   ]
  },
  {
   "cell_type": "code",
   "execution_count": null,
   "metadata": {
    "collapsed": false
   },
   "outputs": [],
   "source": [
    "fig, ax = plt.subplots()\n",
    "\n",
    "# plot functions\n",
    "ax.plot(x, x**2, 'b--', x, x**3, 'r-.')\n",
    "\n",
    "# add annotations \n",
    "ax.text(5, 50, r\"$y=x^2$\", fontsize=20, color=\"b\")\n",
    "ax.text(5.5, 150, r\"$y=x^3$\", fontsize=20, color=\"r\");"
   ]
  },
  {
   "cell_type": "markdown",
   "metadata": {},
   "source": [
    "## Scatterplots"
   ]
  },
  {
   "cell_type": "markdown",
   "metadata": {},
   "source": [
    "Ein Scatterplot eignet sich um Beziehung paarweisen Daten darzustellen. Als ein anschauliches Beispiel sei im Folgenden die Anzahl der Freunde in einem Sozialen-Netzwerk sowie die verbrachten Minuten im Netzwerk pro Person dargestellt. Mit [`scatter`](http://matplotlib.org/api/axes_api.html?highlight=scatter#matplotlib.axes.Axes.scatter) erstellen Sie einen Scatterplot. "
   ]
  },
  {
   "cell_type": "code",
   "execution_count": null,
   "metadata": {
    "collapsed": false
   },
   "outputs": [],
   "source": [
    "# model data\n",
    "network_friends = [ 70, 65, 72, 63, 71, 64, 60, 64, 67]\n",
    "stayed_minutes = [175, 170, 205, 120, 220, 130, 105, 145, 190]\n",
    "person = ['a', 'b', 'c', 'd', 'e', 'f', 'g', 'h', 'i']\n",
    "\n",
    "# scatterplot\n",
    "plt.scatter(network_friends, stayed_minutes)\n",
    "\n",
    "# label each point\n",
    "for person, friend_count, minute_count in zip(person, network_friends, stayed_minutes):\n",
    "    plt.annotate(person, xy=(friend_count, minute_count), \n",
    "                 xytext=(5, -5), # offset from each point\n",
    "                 textcoords='offset points') # set offset\n",
    "    plt.title(\"Daily Minutes vs. Number of Friends\")\n",
    "    plt.xlabel(\"# friends in the network\")\n",
    "    plt.ylabel(\"minutes spent on the network\")"
   ]
  },
  {
   "cell_type": "markdown",
   "metadata": {},
   "source": [
    "### !Aufgabe\n",
    "Im Folgenden Plot werden die Noten von zwei Klausuren in Beziehung gesetzt. Die Skalen der Achsen, wie sie von `matplotlib` gesetzt werden, erschweren die Interpretation. Korrigieren Sie die Achsenaufteilung, sodass diese gleich verteilt sind und plotten Sie beide Versionen in einem figure-Objekt mit Beschriftung, siehe folgende Abbildung.\n",
    "\n",
    "<img src=\"img/Aufgabe2.png\">"
   ]
  },
  {
   "cell_type": "code",
   "execution_count": null,
   "metadata": {
    "collapsed": false
   },
   "outputs": [],
   "source": [
    "# simple test grade plot\n",
    "test_1_grades = [99, 90, 85, 97, 80]\n",
    "test_2_grades = [100, 85, 60, 90, 70]\n",
    "persons = ['Noam', 'Kurt', 'Alexander', 'Marie', 'Alexandra']\n",
    "\n",
    "# create a figure with specific rows and colums\n",
    "fig, axes = plt.subplots(1, 2, figsize=(12,4))\n",
    "\n",
    "axes[0].scatter(test_1_grades, test_2_grades)\n",
    "\n",
    "axes[1].scatter(test_1_grades, test_2_grades)\n",
    "axes[1].axis([45, 130, 50, 110])\n",
    "# axes[1].axis('scaled')  # sieht nicht schön aus\n",
    "\n",
    "# zip() macht ne Tupelliste, auspacken in 3 Variablen, mit annotate() benutzen\n",
    "for person, grade_one, grade_two in zip(persons, test_1_grades, test_2_grades):\n",
    "    plt.annotate(person, xy=(grade_one, grade_two), \n",
    "                 xytext=(5, -5), textcoords='offset points') \n",
    "\n",
    "plt.title(\"Plot with comparable Axes\")\n",
    "plt.xlabel(\"test 1 grade\")\n",
    "plt.ylabel(\"test 2 grade\")"
   ]
  },
  {
   "cell_type": "markdown",
   "metadata": {},
   "source": [
    "In der modifizierten Abbildung ist deutlich sichtbar, dass eine hohe Varianz im zweiten Test auftritt. Sie sollten bei Abbildungen immer darauf achten, wie die Achsen skaliert sind, da eine ungeeignete Skalierung oft zu einer verfälschten Darstellung führen kann."
   ]
  },
  {
   "cell_type": "markdown",
   "metadata": {},
   "source": [
    "## Histogramm\n",
    "Bei Histogrammen handelt es sich um Balkendiagramme. Balkendiagramme eignen sich prinzipiell zur Darstellungen von diskreten Mengen. Mit einem Histogramm versuchen wir die Verteilung von den Werten in einer Menge gut darzustellen. Als Einstiegsbeispiel nehmen wir wieder eine Notenverteilung, diesmal von einem einzigen Test. Ein Balkendiagramm bzw. Histogramm ploten Sie mit [`bar`](http://matplotlib.org/api/pyplot_api.html?highlight=bar#matplotlib.pyplot.bar)."
   ]
  },
  {
   "cell_type": "code",
   "execution_count": null,
   "metadata": {
    "collapsed": false
   },
   "outputs": [],
   "source": [
    "from collections import Counter\n",
    "\n",
    "grades = [83,95,91,87,70,6,85,82,100,67,73,77,0]\n",
    "decile = lambda grade: grade // 10 * 10\n",
    "# cluster grades into deciles and count them\n",
    "histogram = Counter(decile(grade) for grade in grades)\n",
    "\n",
    "list = [decile(grade) for grade in grades]\n",
    "print (list)\n",
    "\n",
    "# plot histogram\n",
    "plt.bar([x -4 for x in histogram.keys()], # shift each bar to the left by 4 \n",
    "        histogram.values(),                # give each bar its correct height\n",
    "        8)                                 # give each bar a width of 8\n",
    "plt.axis([-5, 105, 0, 5])                  # x-axis from -5 to 105, y-axis from 0 to 5\n",
    "plt.xticks([10 * i for i in range(11)])    # x-axis labels at 0, 10, ..., 100\n",
    "plt.xlabel(\"Points rounded\")\n",
    "plt.ylabel(\"# of Students\")\n",
    "plt.title(\"Distribution of Test Grades\")"
   ]
  },
  {
   "cell_type": "markdown",
   "metadata": {},
   "source": [
    "Der erste Parameter beim Aufruf von `bar` bestimmt den Startpunkt des jeweilgen Balkens. Während der zweite die Höhe des Balkens angibt. Der dritte Parameter bestimmt hingegen die Breite des Balkens. Im Beispiel wurden die Balken, welche die Breite von acht besitzen, um vier Einheiten nach links geschoben, wodurch diese zentriert werden. Außerdem erhalten wir einen kleinen Abstand zwischen den Balken, da jede Klasse eigentlich eine Breite von zehn besitzt. Bis auf [`xticks`](http://matplotlib.org/api/pyplot_api.html?highlight=xticks#matplotlib.pyplot.xticks) sind die anderen Funktionen bereits bekannt. `Xticks` plaziert die Beschriftungen an den spezifizierten Punkten, hier bei jedem Dezil.\n",
    "\n",
    "Eine weitere Eigenschaft von `matplotlib` ist eine rudimentäre Unterstüztung von Bildern. Mit dem Modul können Bilder im png-Format in einem Numpy-Array konvertiert werden ([`imread`](http://matplotlib.org/api/image_api.html?highlight=imread#matplotlib.image.imread)) und ebenso dargestellt ([`imshow`](http://matplotlib.org/api/pyplot_api.html?highlight=imshow#matplotlib.pyplot.imshow)). Histogramme sind im Kontext von Bildern sehr interessant. \n",
    "\n",
    "### !Aufgabe\n",
    "Nutzen Sie ihre `numpy`- und Ihre heute erworbene `matplotlib`-Kenntnis um folgende Aufagbe umzusetzen:\n",
    "\n",
    "- Erstellen Sie eine Plot, der das Ausgangsbild sowie jeweils eins für jeden Kanal enthält.\n",
    "- Berechnen Sie aus jedem Kanal ein Histogram und stellen Sie diese in einem Plot dar. Bitte entfernen Sie die Extremwerte 0 (Schwarz) und 1 (Weiß) vor der Darstellung.\n",
    "\n",
    "Das Ergebnis sollte in etwa folgende Form haben.\n",
    "\n",
    "<img src=\"img/Aufgabe3.png\">\n"
   ]
  },
  {
   "cell_type": "code",
   "execution_count": null,
   "metadata": {
    "collapsed": true
   },
   "outputs": [],
   "source": [
    "import matplotlib.image as mpimg\n",
    "\n",
    "BAR_WIDTH = 0.0001\n",
    "\n",
    "# Bild einlesen\n",
    "chomsky = mpimg.imread(\"img/chomsky.png\")\n",
    "\n",
    "# per Slicing die Farbchannel holen\n",
    "chomsky_r = chomsky[:,:,0] \n",
    "chomsky_g = chomsky[:,:,1] \n",
    "chomsky_b = chomsky[:,:,2] \n",
    "\n",
    "# jeweils alle Werte zaehlen, 0 und 1 ignorieren\n",
    "histo_r = Counter(v for v in chomsky_r.flatten() if v not in {0.0, 1.0})\n",
    "histo_g = Counter(v for v in chomsky_g.flatten() if v not in {0.0, 1.0})\n",
    "histo_b = Counter(v for v in chomsky_b.flatten() if v not in {0.0, 1.0})"
   ]
  },
  {
   "cell_type": "code",
   "execution_count": null,
   "metadata": {
    "collapsed": false
   },
   "outputs": [],
   "source": [
    "import matplotlib.image as mpimg\n",
    "\n",
    "fig = plt.figure(figsize=(15, 5))\n",
    "\n",
    "a = fig.add_subplot(1, 4, 1)\n",
    "plt.imshow(chomsky)\n",
    "a.set_title('RGB')\n",
    "\n",
    "a = fig.add_subplot(1, 4, 2)\n",
    "plt.imshow(chomsky_r)\n",
    "a.set_title('R Channel')\n",
    "\n",
    "a = fig.add_subplot(1, 4, 3)\n",
    "plt.imshow(chomsky_g)\n",
    "a.set_title('G Channel')\n",
    "\n",
    "a = fig.add_subplot(1, 4, 4)\n",
    "plt.imshow(chomsky_b)\n",
    "a.set_title('B Channel')\n"
   ]
  },
  {
   "cell_type": "code",
   "execution_count": null,
   "metadata": {
    "collapsed": false
   },
   "outputs": [],
   "source": [
    "fig = plt.figure(figsize=(12, 4))\n",
    "\n",
    "b = fig.add_subplot(1, 3, 1)\n",
    "plt.bar(histo_r.keys(), histo_r.values(), BAR_WIDTH)\n",
    "plt.axis([0, 1.2, 0, 2500])\n",
    "b.set_title('R')\n",
    "\n",
    "b = fig.add_subplot(1, 3, 2)\n",
    "plt.bar(histo_g.keys(), histo_g.values(), BAR_WIDTH)\n",
    "plt.axis([0, 1.2, 0, 4000])\n",
    "b.set_title('G')\n",
    "\n",
    "b = fig.add_subplot(1, 3, 3)\n",
    "plt.bar(histo_b.keys(), histo_b.values(), BAR_WIDTH)\n",
    "plt.axis([0, 1.2, 0, 3000])\n",
    "b.set_title('B')"
   ]
  },
  {
   "cell_type": "code",
   "execution_count": null,
   "metadata": {
    "collapsed": true
   },
   "outputs": [],
   "source": []
  },
  {
   "cell_type": "code",
   "execution_count": null,
   "metadata": {
    "collapsed": true
   },
   "outputs": [],
   "source": []
  }
 ],
 "metadata": {
  "anaconda-cloud": {},
  "kernelspec": {
   "display_name": "Python [conda env:GesundheitsInfo]",
   "language": "python",
   "name": "conda-env-GesundheitsInfo-py"
  },
  "language_info": {
   "codemirror_mode": {
    "name": "ipython",
    "version": 3
   },
   "file_extension": ".py",
   "mimetype": "text/x-python",
   "name": "python",
   "nbconvert_exporter": "python",
   "pygments_lexer": "ipython3",
   "version": "3.5.2"
  }
 },
 "nbformat": 4,
 "nbformat_minor": 0
}
