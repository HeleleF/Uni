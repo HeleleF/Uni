{
 "cells": [
  {
   "cell_type": "markdown",
   "metadata": {},
   "source": [
    "# AKGI - Crash into numpy - Part I\n",
    "Bei *numpy* und *scipy* handelt es sich um Module von Python, welche sehr hilfreiche Funktionen für uns zur Verfügung stellen. In diesem Tutorial soll zunächst um Numpy gehen."
   ]
  },
  {
   "cell_type": "markdown",
   "metadata": {},
   "source": [
    "<center>\n",
    "    <img src=\"img/horror.png\" width=\"500\">\n",
    "*Bildquelle: http://www.zoitz.com/archives/36*\n",
    "</center>\n"
   ]
  },
  {
   "cell_type": "markdown",
   "metadata": {},
   "source": [
    "# numpy: Mathematische Kalkulationen in Python\n",
    "\n",
    "*numpy* ist eine Bibliothek, die Python optimierte Vektoren, Matrizen und höher dimensionale Strukturen hinzufügt. Die Optimierung bezieht sich vor allem auf die Berechnungszeit, da die Bibliothek in C und Fortran implementiert ist. *numpy* ermöglicht einen einfachen Umgang mit Vektoren- und Matrizenberechnungen. Die Vereinfachung geht so weit, dass viele Wissenschaftler mit Python arbeiten und wichtige Bibliotheken des Maschinellen Lernens durch Python verwendet werden können.\n",
    "\n",
    "Um die Funktionalität nutzen zu können, müssen Sie die Bibliothek erst einmal laden. Beim Importieren des Moduls hat sich die Konversion durchgesetzt *np* als Alias zu verwenden."
   ]
  },
  {
   "cell_type": "code",
   "execution_count": 1,
   "metadata": {
    "collapsed": true
   },
   "outputs": [],
   "source": [
    "import numpy as np"
   ]
  },
  {
   "cell_type": "markdown",
   "metadata": {},
   "source": [
    "## numpy arrays\n",
    "Eine Kernfunktionalität von *numpy* besteht in den Datentyp *ndarray*. Stellen Sie sich diesen Datentypen als einen n-dimensionalle Array vor, wie Sie Ihn beispielsweise aus Java kennen. Durch diesen Datentyp lassen sich Skalare, Vektoren und Matrizen abbilden.\n",
    "\n",
    "Es existieren unterschiedliche Möglichkeit einen _ndarray_ zu erzeugen. So können Sie beispielsweise:\n",
    "\n",
    "* Listen oder Tupel zu einem *ndarray* machen, \n",
    "* die *numpy* Funktionen zum Erzeugen von *ndarray*-Strukturen verwenden, wie `arange`, `linspace`, `zeros` etc.\n",
    "* oder Daten aus einer Datei in einen *ndarray* einlesen.\n",
    "\n",
    "### Aus einer Liste erzeugen"
   ]
  },
  {
   "cell_type": "code",
   "execution_count": 2,
   "metadata": {
    "collapsed": false
   },
   "outputs": [
    {
     "name": "stdout",
     "output_type": "stream",
     "text": [
      "[1 2 3 4 5 6 7 8 9] <class 'numpy.ndarray'>\n"
     ]
    }
   ],
   "source": [
    "# create a list\n",
    "list = [1,2,3,4,5,6,7,8,9]\n",
    "\n",
    "# create a numpy array from the list - it has the shape of a vector\n",
    "vec = np.array(list)\n",
    "print(vec, type(vec))"
   ]
  },
  {
   "cell_type": "code",
   "execution_count": 3,
   "metadata": {
    "collapsed": false
   },
   "outputs": [
    {
     "name": "stdout",
     "output_type": "stream",
     "text": [
      "[[1 2 3]\n",
      " [4 5 6]\n",
      " [7 8 9]] <class 'numpy.ndarray'>\n",
      "[[1, 2, 3] [9, 8, 7] [3, 4, 6] [6, 7, 8, 9]] <class 'numpy.ndarray'>\n"
     ]
    }
   ],
   "source": [
    "# create a nested list\n",
    "list_of_lists = [[1,2,3],[4,5,6],[7,8,9]]\n",
    "\n",
    "# create a numpy array from the list of lists - it has the shape of a matrix\n",
    "mat = np.array(list_of_lists) \n",
    "print(mat, type(mat))\n",
    "\n",
    "\n",
    "\n",
    "\n",
    "# create weird nested list\n",
    "weird_list = [[1,2,3],[9,8,7],[3,4,6],[6,7,8,9]]\n",
    "matw = np.array(weird_list)\n",
    "print(matw, type(matw)) # keine Matrixformatierung mehr, wenn dien Listen nicht gleichlang sind!"
   ]
  },
  {
   "cell_type": "markdown",
   "metadata": {},
   "source": [
    "Wie die Beispiele zeigen, unterscheiden sich die Variablen nicht in Ihrem Datentyp, sondern ausschließlich in Ihrer Form. Die Form eines *ndarray* können Sie durch das Attribut *shape* erfragen."
   ]
  },
  {
   "cell_type": "code",
   "execution_count": 4,
   "metadata": {
    "collapsed": false
   },
   "outputs": [
    {
     "name": "stdout",
     "output_type": "stream",
     "text": [
      "(9,)\n",
      "(3, 3)\n",
      "(4,)\n",
      "(9,)\n",
      "(3, 3)\n",
      "True\n"
     ]
    }
   ],
   "source": [
    "# shape property of a ndarrray\n",
    "print(vec.shape) # vector shape\n",
    "print(mat.shape) # matix shape\n",
    "print(matw.shape) # wie ein Vektor\n",
    "\n",
    "# but numpy has a shape function as well\n",
    "print(np.shape(vec))\n",
    "print(np.shape(mat))\n",
    "print(np.shape(mat) == mat.shape)"
   ]
  },
  {
   "cell_type": "markdown",
   "metadata": {},
   "source": [
    "Sehr hilfreich kann auch das Attribute *size* sein."
   ]
  },
  {
   "cell_type": "code",
   "execution_count": 5,
   "metadata": {
    "collapsed": false
   },
   "outputs": [
    {
     "name": "stdout",
     "output_type": "stream",
     "text": [
      "9\n",
      "9\n"
     ]
    }
   ],
   "source": [
    "# size property of a ndarray\n",
    "print (vec.size)\n",
    "print (mat.size)"
   ]
  },
  {
   "cell_type": "markdown",
   "metadata": {},
   "source": [
    "Erzeugt man die Datenstruktur Arrays aus einer Liste, scheint kein besonderer Unterschied zwischen diesen zu bestehen. Hier ist jedoch zu beachten, dass die Python Liste ein **dynamischer Datentyp** ist und der Arrays nicht. Der **Datentyp des Arrays** wird beim **initialisieren festgelegt** und ist somit **statisch**. Dies hilft unter anderem bei der **Speichereffizienz** und der **Kalkulationsgeschwindigkeit** von Funktionen auf dem Datentyp. \n",
    "\n",
    "Mit `dtype` kann man diese Eigenschaft bei der Initialisierung setzen. Generell sind alle gängigen Typen zulässig, beispieslweise `int, float, complex, bool, object`, etc.; die Bitanzahl lässt sich bei bestimmten Datentypen ebenfalls setzen, wie bei `int16` oder `int64`."
   ]
  },
  {
   "cell_type": "code",
   "execution_count": 6,
   "metadata": {
    "collapsed": false
   },
   "outputs": [
    {
     "name": "stdout",
     "output_type": "stream",
     "text": [
      "[1 2 3 4 5 6 7 8 9] int32\n",
      "[ 1.+0.j  2.+0.j  3.+0.j  4.+0.j  5.+0.j  6.+0.j  7.+0.j  8.+0.j  9.+0.j] complex128\n"
     ]
    }
   ],
   "source": [
    "# check the typ of data with dtype property\n",
    "print (vec, vec.dtype)\n",
    "\n",
    "# force the typ of the data with dtype\n",
    "float_vec = np.array(list, dtype=complex) \n",
    "print (float_vec, float_vec.dtype)"
   ]
  },
  {
   "cell_type": "markdown",
   "metadata": {},
   "source": [
    "### *numpy*-Funktion zum Erzeugen\n",
    "\n",
    "Es exisiteren diverse Funktionen, um einen Array mit Inhalt zu füllen. Zum generieren von Intervallen, deren Abstände gleichmäßig verteilt sind, sind die Funktionen `arange` und `linspace` geeignet. `arange` benutzt einen gegebenen Abstandwert,  um innerhalb von gegebenen Intervallgrenzen entsprechende Werte zu generieren, während `linspace` eine bestimmte Anzahl von Werten innerhalb gegebener Intervallgrenzen berechnet. Den Abstand berechnet `linspace` automatisch.\n",
    "\n",
    "** arange **"
   ]
  },
  {
   "cell_type": "code",
   "execution_count": 8,
   "metadata": {
    "collapsed": false
   },
   "outputs": [
    {
     "name": "stdout",
     "output_type": "stream",
     "text": [
      "[0 1 2 3 4 5 6 7 8 9]\n",
      "[1 2 3 4 5 6 7 8 9]\n",
      "[ 2.   2.5  3.   3.5  4.   4.5  5.   5.5  6.   6.5  7.   7.5  8.   8.5  9.\n",
      "  9.5]\n"
     ]
    }
   ],
   "source": [
    "# arguments of arange are: arange(start, stop, step) -> Start ist mit drin, Stop ist nicht mit drin\n",
    "# only stop argument, arange will start from 0 \n",
    "print(np.arange(10))\n",
    "\n",
    "# here are some other examples \n",
    "# with start and stop argument\n",
    "print(np.arange(1, 10))\n",
    "# with start, stop and step argument\n",
    "print(np.arange(2, 10, 0.5))"
   ]
  },
  {
   "cell_type": "markdown",
   "metadata": {},
   "source": [
    "**linespace**"
   ]
  },
  {
   "cell_type": "code",
   "execution_count": 171,
   "metadata": {
    "collapsed": false
   },
   "outputs": [
    {
     "name": "stdout",
     "output_type": "stream",
     "text": [
      "[  0.   2.   4.   6.   8.  10.  12.  14.  16.  18.  20.  22.  24.  26.  28.\n",
      "  30.  32.  34.  36.  38.  40.  42.  44.  46.  48.  50.  52.  54.  56.  58.\n",
      "  60.  62.  64.  66.  68.  70.  72.  74.  76.  78.  80.  82.  84.  86.  88.\n",
      "  90.  92.  94.  96.  98.]\n",
      "(array([  0.,   2.,   4.,   6.,   8.,  10.,  12.,  14.,  16.,  18.,  20.,\n",
      "        22.,  24.,  26.,  28.,  30.,  32.,  34.,  36.,  38.,  40.,  42.,\n",
      "        44.,  46.,  48.,  50.,  52.,  54.,  56.,  58.,  60.,  62.,  64.,\n",
      "        66.,  68.,  70.,  72.,  74.,  76.,  78.,  80.,  82.,  84.,  86.,\n",
      "        88.,  90.,  92.,  94.,  96.,  98.]), 2.0)\n",
      "(array([  0.        ,  10.88888889,  21.77777778,  32.66666667,\n",
      "        43.55555556,  54.44444444,  65.33333333,  76.22222222,\n",
      "        87.11111111,  98.        ]), 10.88888888888889)\n",
      "(array([  0. ,   9.8,  19.6,  29.4,  39.2,  49. ,  58.8,  68.6,  78.4,  88.2]), 9.8)\n",
      "(array([  0. ,   4.9,   9.8,  14.7,  19.6,  24.5,  29.4,  34.3,  39.2,\n",
      "        44.1,  49. ,  53.9,  58.8,  63.7,  68.6,  73.5,  78.4,  83.3,\n",
      "        88.2,  93.1]), 4.9)\n"
     ]
    }
   ],
   "source": [
    "# arguments of linespace are: linspace(start, stop, num=50, endpoint=True, retstep=False) \n",
    "\n",
    "# only with start and stop argument, linespace will create 50 values with even distance\n",
    "print(np.linspace(0,98))\n",
    "\n",
    "# set restep to true to get a tupel with ([ndarray],distance)\n",
    "print(np.linspace(0,98,retstep=True))\n",
    "\n",
    "# with start, stop and num argument, will create 10 values even distributed\n",
    "print(np.linspace(0,98,10,retstep=True))\n",
    "\n",
    "# same with an open interval --> distance = (stop-start)/num\n",
    "print(np.linspace(0,98,10,endpoint=False,retstep=True)) # 9.8\n",
    "print(np.linspace(0,98,20,endpoint=False,retstep=True)) # 4.9"
   ]
  },
  {
   "cell_type": "markdown",
   "metadata": {},
   "source": [
    "Diese Funktionen erzeugen jedoch immer einen Array in Form eines Vektors. Die `shape` entspricht also immer (Anzahl,). Mit Hilfe der Funktion `reshape` können wir den erzeugten Array unseren Wünschen anpassen."
   ]
  },
  {
   "cell_type": "code",
   "execution_count": 9,
   "metadata": {
    "collapsed": false
   },
   "outputs": [
    {
     "name": "stdout",
     "output_type": "stream",
     "text": [
      "[ 0  1  2  3  4  5  6  7  8  9 10 11 12 13 14 15 16 17 18 19 20 21 22 23 24] (25,)\n",
      "[[ 0  1  2  3  4]\n",
      " [ 5  6  7  8  9]\n",
      " [10 11 12 13 14]\n",
      " [15 16 17 18 19]\n",
      " [20 21 22 23 24]] (5, 5)\n"
     ]
    }
   ],
   "source": [
    "# create a vector of 25 values\n",
    "vec = np.arange(25)\n",
    "print(vec,vec.shape)\n",
    "\n",
    "# reshape the vector to a 5x5 matrix - that only works if the dimesions fit\n",
    "m_5x5 = vec.reshape(5,5)\n",
    "print(m_5x5, m_5x5.shape)"
   ]
  },
  {
   "cell_type": "markdown",
   "metadata": {},
   "source": [
    "#### Weitere Funktion zum Generieren von Matrizen"
   ]
  },
  {
   "cell_type": "code",
   "execution_count": 10,
   "metadata": {
    "collapsed": false,
    "slideshow": {
     "slide_type": "-"
    }
   },
   "outputs": [
    {
     "name": "stdout",
     "output_type": "stream",
     "text": [
      "[[ 0.  0.]\n",
      " [ 0.  0.]\n",
      " [ 0.  0.]]\n",
      "-----------------------------\n",
      "[[ 0.  0.  0.]\n",
      " [ 0.  0.  0.]]\n",
      "-----------------------------\n",
      "[[ 1.  1.  1.]\n",
      " [ 1.  1.  1.]\n",
      " [ 1.  1.  1.]]\n",
      "-----------------------------\n",
      "[[ 0.33  0.33  0.33]\n",
      " [ 0.33  0.33  0.33]\n",
      " [ 0.33  0.33  0.33]]\n",
      "-----------------------------\n",
      "[[1 0 0]\n",
      " [0 3 0]\n",
      " [0 0 2]]\n",
      "-----------------------------\n",
      "[[0 0 1 0 0]\n",
      " [0 0 0 2 0]\n",
      " [0 0 0 0 3]\n",
      " [0 0 0 0 0]\n",
      " [0 0 0 0 0]]\n",
      "-----------------------------\n",
      "[[ 0.96026381  0.32608181  0.83022144  0.99639752]\n",
      " [ 0.51960107  0.04058446  0.12018156  0.93955316]\n",
      " [ 0.33528408  0.39890279  0.56232171  0.67735017]\n",
      " [ 0.56447165  0.01156402  0.1152398   0.35050954]]\n",
      "-----------------------------\n",
      "[[ 1.16463394 -0.36027252 -0.79372203  0.95499861]\n",
      " [-0.25972128  0.29546262 -0.95126945 -0.34931722]\n",
      " [ 3.0204523   0.31849504  1.51774289  0.73465829]\n",
      " [-1.41115778 -0.61468204  0.8236077  -1.73215258]]\n"
     ]
    }
   ],
   "source": [
    "# matrix of zeros - [lines,columns]\n",
    "print(np.zeros([3, 2]))\n",
    "print(\"-----------------------------\")\n",
    "print(np.zeros([2, 3]))\n",
    "print(\"-----------------------------\")\n",
    "# matrix of ones - [lines,columns]\n",
    "print(np.ones([3,3]))\n",
    "print(\"-----------------------------\")\n",
    "# matrix of a constant - [lines,cloumns], constant\n",
    "print(np.full([3,3], 0.33))\n",
    "print(\"-----------------------------\")\n",
    "# diagonal matrix with diagonal of the given array and the shape of (len(array),len(array))\n",
    "print(np.diag([1,3,2]))\n",
    "print(\"-----------------------------\")\n",
    "# diagonal matrix with offset k from the main diagonal -> shape of (len(array)+k,len(array)+k)\n",
    "print(np.diag([1,2,3], k=2)) \n",
    "print(\"-----------------------------\")\n",
    "# random.rand(lines,columns) gives you uniform random numbers between [0,1]\n",
    "print(np.random.rand(4,4))\n",
    "print(\"-----------------------------\")\n",
    "# random.randn(rows,columns) gives you standard normal distributed random numbers in the given shape\n",
    "print(np.random.randn(4,4))"
   ]
  },
  {
   "cell_type": "markdown",
   "metadata": {},
   "source": [
    "### Aus einer CSV-Datei lesen\n",
    "### [AUFGABE IM CODE-TEIL]\n",
    "*numpy* stellt ebenfalls die Möglichkeit zur Verfügung eine Matrix aus einer CSV-Datei zu erstellen. Hier wird die Funktion *genfromtxt* verwendet. Als kleines Beispiel ist hier die Durchschnittstemperatur von Berlin aus dem Jahr 2016 für die Monate Januar bis Dezember verwendet worden. Im weiteren Verlauf werden Sie diese Weise andere Dateien einlesen und für die weitere Analyse vorbereiten. Da es unter Umständen schwieriger werden kann, insbesondere wenn unterschiedliche Datentypen vorhanden sind, sollten Sie sich hierzu die [Dokumentation](https://docs.scipy.org/doc/numpy/reference/generated/numpy.genfromtxt.html) angucken oder merken."
   ]
  },
  {
   "cell_type": "code",
   "execution_count": 24,
   "metadata": {
    "collapsed": false
   },
   "outputs": [
    {
     "name": "stdout",
     "output_type": "stream",
     "text": [
      "[[  1.    0.1]\n",
      " [  2.    4.2]\n",
      " [  3.    5.2]\n",
      " [  4.    9.4]\n",
      " [  5.   16.2]\n",
      " [  6.   19.7]\n",
      " [  7.   20.6]\n",
      " [  8.   19.1]\n",
      " [  9.   18.6]\n",
      " [ 10.    9.1]\n",
      " [ 11.    5.7]] (11, 2)\n",
      "[[  1.    0.1]\n",
      " [  2.    4.2]\n",
      " [  3.    5.2]\n",
      " [  4.    9.4]\n",
      " [  5.   16.2]\n",
      " [  6.   19.7]\n",
      " [  7.   20.6]\n",
      " [  8.   19.1]\n",
      " [  9.   18.6]\n",
      " [ 10.    9.1]\n",
      " [ 11.    5.7]\n",
      " [ 12.    1. ]] (12, 2)\n"
     ]
    }
   ],
   "source": [
    "# read data from a csv file with genfromtxt\n",
    "temp_berlin = np.genfromtxt('temp_berlin_2016.csv', delimiter=\",\")\n",
    "print(temp_berlin,temp_berlin.shape)\n",
    "\n",
    "# hinzufügen\n",
    "temp_berlin = np.append(temp_berlin, [12,1.0])\n",
    "temp_berlin = temp_berlin.reshape(12,2)\n",
    "\n",
    "print(temp_berlin,temp_berlin.shape)\n",
    "\n",
    "# rausdrücken\n",
    "np.savetxt('temp_berlin_2016.csv', temp_berlin, fmt='%2.1f', delimiter=\",\")\n",
    "\n",
    "# with savetxt you can write a ndarray into a csv file\n",
    "# AUFAGBE: Modifizieren Sie temp_berlin, sodass es einen fiktiven Dezember gibt mit einer Druchschnittstemperatur\n",
    "# und schrieben Sie die modifizierte temp_berlin-Variable in die CSV-Datei zurück"
   ]
  },
  {
   "cell_type": "markdown",
   "metadata": {},
   "source": [
    "### Numpy Array referenzen und nicht kopieren\n",
    "\n",
    "Mit Hilfe von _np.array_ wird eine Kopie anglegt. Handelt es sich bei dem Parameter schon um einen ndarray und Sie möchten nicht, dass eine Kopie angelegt wird, kann die Funktion _np.asarray_ verwendet werden."
   ]
  },
  {
   "cell_type": "code",
   "execution_count": 25,
   "metadata": {
    "collapsed": false
   },
   "outputs": [
    {
     "name": "stdout",
     "output_type": "stream",
     "text": [
      "[[  1.   1.   1.]\n",
      " [  1.  44.   1.]\n",
      " [  1.   1.   1.]]\n",
      "[[ 1.  1.  1.]\n",
      " [ 1.  1.  1.]\n",
      " [ 1.  1.  1.]]\n",
      "[[  1.   1.   1.]\n",
      " [  1.  44.   1.]\n",
      " [  1.   1.   1.]]\n"
     ]
    }
   ],
   "source": [
    "# create a matrix 3x3\n",
    "ones = np.ones([3,3])\n",
    "\n",
    "# create a copy of that same matrix\n",
    "copy_ones = np.array(ones)  \n",
    "\n",
    "# only reference the matrix\n",
    "ref_ones = np.asarray(ones)\n",
    "\n",
    "# change a value and have a look\n",
    "ones[1,1] = 44\n",
    "print(ones)\n",
    "print(\"-----------------------------\")\n",
    "print(copy_ones)\n",
    "print(\"-----------------------------\")\n",
    "print(ref_ones)"
   ]
  },
  {
   "cell_type": "markdown",
   "metadata": {},
   "source": [
    "## Attribute eines Numpy Arrays"
   ]
  },
  {
   "cell_type": "markdown",
   "metadata": {},
   "source": [
    "Mit Hilfe von dem Attribut `ndim` kann die Dimension eines `ndarrays` festgestellt werden. Die Dimension von *numpy* beschreibt die Dimension des Arrays, nicht die Dimension einer Matrix! So haben Arrays, welche Scalare repräsentieren die Dimension 0, Vektoren die Dimension 1 und Matrizen mindestens die Dimension 2."
   ]
  },
  {
   "cell_type": "code",
   "execution_count": 27,
   "metadata": {
    "collapsed": false
   },
   "outputs": [
    {
     "name": "stdout",
     "output_type": "stream",
     "text": [
      "1 0\n",
      "-----------------------------\n",
      "[ 0  1  2  3  4  5  6  7  8  9 10 11 12 13 14 15 16 17 18 19 20 21 22 23 24] 1\n",
      "-----------------------------\n",
      "[[ 0  1  2  3  4]\n",
      " [ 5  6  7  8  9]\n",
      " [10 11 12 13 14]\n",
      " [15 16 17 18 19]\n",
      " [20 21 22 23 24]] 2\n"
     ]
    }
   ],
   "source": [
    "# create some arrays\n",
    "scalar = np.array(1)\n",
    "vector = np.arange(25)\n",
    "matrix = np.arange(25).reshape(5,5)\n",
    "\n",
    "# print their dimension\n",
    "print(scalar,scalar.ndim)\n",
    "print(\"-----------------------------\")\n",
    "print(vector,vector.ndim)\n",
    "print(\"-----------------------------\")\n",
    "print(matrix,matrix.ndim)"
   ]
  },
  {
   "cell_type": "markdown",
   "metadata": {},
   "source": [
    "Einige weitere Attribute sind bereits vorgekommen dazu wählen `shape` (dieses entspricht der mathematischen Dimension) und `size`. Trotzdem seien Sie in der folgenden Liste noch einmal mit aufgeführt:\n",
    "\n",
    "* `shape`: Die mathematische Dimension eines Array: n-mal-m Matrize, wobei m den Spalten entspricht und n den Zeilen\n",
    "* `size`: Anzahl der Elemente im Array\n",
    "* `itemsize`: Bytegröße eines Elements\n",
    "* `nbytes`: Anzahl verwendeter Bytes\n",
    "* `T`: Transponiert eine Matrix"
   ]
  },
  {
   "cell_type": "code",
   "execution_count": 77,
   "metadata": {
    "collapsed": false
   },
   "outputs": [
    {
     "name": "stdout",
     "output_type": "stream",
     "text": [
      "(25,) 25\n",
      "8 200\n",
      "[[ 0  5 10 15 20]\n",
      " [ 1  6 11 16 21]\n",
      " [ 2  7 12 17 22]\n",
      " [ 3  8 13 18 23]\n",
      " [ 4  9 14 19 24]]\n"
     ]
    }
   ],
   "source": [
    "# vector shape, count of the elements in the vector\n",
    "print(vector.shape,vector.size)  \n",
    "\n",
    "# bytes of an element, total bytes used by the vector (size*itemsize)\n",
    "print(vector.itemsize,vector.nbytes)  \n",
    "\n",
    "# transpose a matrix\n",
    "print(matrix.T)"
   ]
  },
  {
   "cell_type": "markdown",
   "metadata": {},
   "source": [
    "## Manipulieren von Numpy Arrays\n",
    "\n",
    "### Indexierungen - Zugriffmöglichkeiten\n",
    "\n",
    "Die Zugriffsmöglichkeiten auf ein `ndarray` unterscheiden sich nicht stark gegenüber den Zugriffsmöglichkeiten, die Sie bereits von den Python Listen kennen. Es gibt einige kleine zusätzliche Optionen, welche Ihnen vielleicht bereits aus anderen Programmiersprachen bekannt sind, die Arrays verwenden."
   ]
  },
  {
   "cell_type": "code",
   "execution_count": 29,
   "metadata": {
    "collapsed": false
   },
   "outputs": [
    {
     "name": "stdout",
     "output_type": "stream",
     "text": [
      "[[ 0  1  2  3  4]\n",
      " [ 5  6  7  8  9]\n",
      " [10 11 12 13 14]] (3, 5)\n",
      "2\n",
      "[0 1 2 3 4]\n",
      "[0 1 2 3 4]\n",
      "[ 1  6 11]\n",
      "[[  0   1  44   3  13]\n",
      " [-11 -11 -11 -11  13]\n",
      " [ 10  11  12  13  13]]\n"
     ]
    }
   ],
   "source": [
    "# create a test vector and matrix\n",
    "indexMatrix = np.arange(15).reshape(3,5)\n",
    "print(indexMatrix,indexMatrix.shape) # let's have a look\n",
    "\n",
    "# you can select a single value with matrix[row,column] - counting starts at 0\n",
    "print(indexMatrix[0,2])\n",
    "\n",
    "# you can select a full row\n",
    "print(indexMatrix[0])     # use rowindex only\n",
    "print(indexMatrix[0,:])   # use rowindex and slice operator, more clear\n",
    "\n",
    "# you can also select columns\n",
    "print(indexMatrix[:,1])   # use the slice operator to manipulate the row and select the column by an index\n",
    "\n",
    "# you can change a single value\n",
    "indexMatrix[0,2] = 44     # replace '2' with '44' at index [0,2]\n",
    "\n",
    "# even replace whole rows or columns \n",
    "indexMatrix[1,:] = -11     # replace each value in row 1 with '-11'\n",
    "indexMatrix[:,4] = 13      # replace each value in column 4 with '13'\n",
    "\n",
    "print(indexMatrix)"
   ]
  },
  {
   "cell_type": "markdown",
   "metadata": {},
   "source": [
    "### Index slicing\n",
    "Index Slicing ist bereits von den Listen bekannt und bei Arrays etwas erweitert. Als Syntax können Sie sich merken `Matrize[von:bis:Schritt]` um anteilig aus dem Array herauszuschneiden."
   ]
  },
  {
   "cell_type": "code",
   "execution_count": 30,
   "metadata": {
    "collapsed": false
   },
   "outputs": [
    {
     "name": "stdout",
     "output_type": "stream",
     "text": [
      "[[ 0  1  2  3  4]\n",
      " [ 5  6  7  8  9]\n",
      " [10 11 12 13 14]\n",
      " [15 16 17 18 19]\n",
      " [20 21 22 23 24]]\n",
      "[ 1  6 11 16 21]\n",
      "[ 6 11]\n",
      "[[ 5  6  7  8  9]\n",
      " [15 16 17 18 19]]\n",
      "[ 4  9 14 19 24]\n"
     ]
    }
   ],
   "source": [
    "# create a matrix for slicing\n",
    "sliceMatrix = np.arange(25).reshape(5,5)\n",
    "print(sliceMatrix)\n",
    "\n",
    "print(sliceMatrix[:,1]) # cut a column, same like above\n",
    "print(sliceMatrix[1:3,1]) # or cut only a part of that column\n",
    "print(sliceMatrix[1::2,:]) # take only odd rows \n",
    "print(sliceMatrix[:,-1]) # using a negative index is also possible"
   ]
  },
  {
   "cell_type": "markdown",
   "metadata": {},
   "source": [
    "### [AUFGABE]\n",
    "Mit dem gelernten sollten Sie die folgende Aufagbe lösen können. Erstellen Sie eine Matrize, welche die Werte von 1 bis 50 enthält un die Dimension 7 mal 7 hat. Basierend auf dieser Matrize erstellen Sie bitte weitere Matrizen, die den gelb markierten Bereichen entsprechen, durch Indexierung und Slicing:"
   ]
  },
  {
   "cell_type": "markdown",
   "metadata": {},
   "source": [
    "<center>\n",
    "    <img src=\"img/Aufgabe1.jpg\" width=\"900\">\n",
    "</center>"
   ]
  },
  {
   "cell_type": "markdown",
   "metadata": {
    "slideshow": {
     "slide_type": "-"
    }
   },
   "source": [
    "<center>\n",
    "    <img src=\"img/Aufgabe2.jpg\" width=\"900\">\n",
    "</center>"
   ]
  },
  {
   "cell_type": "code",
   "execution_count": 106,
   "metadata": {
    "collapsed": false
   },
   "outputs": [],
   "source": [
    "# create a matrix with values from 1-50 with the dimension 7 by 7\n",
    "\n",
    "# solution 1\n",
    "# ...\n",
    "# solution 10: Tipp: https://docs.scipy.org/doc/numpy/reference/generated/numpy.pad.html\n"
   ]
  },
  {
   "cell_type": "markdown",
   "metadata": {},
   "source": [
    "### Indexierungen mal anders\n",
    "Indexierungen auf Numpy Arrays kann man auch durch Listen realisieren. So wird es möglich, dezidiert einzelne Werte herauszufiltern und in einer neuem neuen Array zu verpacken. Das selbe kann man durch eine boolche Maske erreichen. Beides soll hier kurz skizziert werden, da es sehr nützlich sein kann."
   ]
  },
  {
   "cell_type": "code",
   "execution_count": 69,
   "metadata": {
    "collapsed": false
   },
   "outputs": [
    {
     "name": "stdout",
     "output_type": "stream",
     "text": [
      "[[ 0  1  2  3  4]\n",
      " [ 5  6  7  8  9]\n",
      " [10 11 12 13 14]\n",
      " [15 16 17 18 19]\n",
      " [20 21 22 23 24]]\n",
      "[ 1 13 15 23]\n",
      "[5 7 8]\n",
      "[5 7 8]\n",
      "[[False False False False False]\n",
      " [False  True False  True False]\n",
      " [ True False  True False  True]\n",
      " [False  True False  True False]\n",
      " [ True False  True False  True]]\n",
      "[ 6  8 10 12 14 16 18 20 22 24]\n"
     ]
    }
   ],
   "source": [
    "# get something to manipulate, again\n",
    "fancyMatrix = np.arange(25).reshape(5,5)\n",
    "print(sliceMatrix)\n",
    "\n",
    "# create some arbitrary row and column indices\n",
    "row_indices, column_indices = [0,2,3,4],[1,3,0,-2]\n",
    "print(sliceMatrix[row_indices,column_indices]) # select values with indices [0,1], [2,3], [3,0], [4,3]\n",
    "\n",
    "# look at it again, cause it can be pretty confusing!\n",
    "\n",
    "# lets create a bool mask by hand\n",
    "bool_mask = np.array([True,False,True,True,False])\n",
    "print(sliceMatrix[1,bool_mask])\n",
    "\n",
    "# or that a bit simpler\n",
    "bool_mask_simpler = np.array([1,0,1,1,0], dtype=bool)\n",
    "print(sliceMatrix[1,bool_mask_simpler]) # same result\n",
    "\n",
    "# to get er more complex, you can do fancy stuff like:\n",
    "bool_mask_generated = (5 < fancyMatrix) * (fancyMatrix % 2 == 0)\n",
    "print(bool_mask_generated)\n",
    "print(sliceMatrix[bool_mask_generated])\n",
    "\n",
    "# also, look at it again!"
   ]
  },
  {
   "cell_type": "markdown",
   "metadata": {},
   "source": [
    "### Funktionen zum Manipulieren von Arrays\n",
    "#### where function\n",
    "Wennn Sie sich eine Maske erstellt haben, können Sie mit der `where` Funktion sich die Indizes ableiten lassen."
   ]
  },
  {
   "cell_type": "code",
   "execution_count": 86,
   "metadata": {
    "collapsed": false
   },
   "outputs": [
    {
     "name": "stdout",
     "output_type": "stream",
     "text": [
      "(array([1, 1, 2, 2, 2, 3, 3, 4, 4, 4]), array([1, 3, 0, 2, 4, 1, 3, 0, 2, 4]))\n"
     ]
    }
   ],
   "source": [
    "get_indices = np.where(bool_mask_generated)\n",
    "\n",
    "print(get_indices)"
   ]
  },
  {
   "cell_type": "markdown",
   "metadata": {},
   "source": [
    "#### flatten function\n",
    "Eine Darstellung in Matrix-Form ist nicht immer wünschenswerte. Es wird passieren, dass Sie eine Matrix in eine Vektorrepäsentation überführen müssen. Dieses können Sie mit der bereits bekannten Funktion`reshape` erreichen. Allerdings ist es dafür notwendig die Dimensionen zu kennen. Eine einfach Variante ist `flatten`:"
   ]
  },
  {
   "cell_type": "code",
   "execution_count": 91,
   "metadata": {
    "collapsed": false
   },
   "outputs": [
    {
     "name": "stdout",
     "output_type": "stream",
     "text": [
      "[[ 0  1  2]\n",
      " [ 3  4  5]\n",
      " [ 6  7  8]\n",
      " [ 9 10 11]\n",
      " [12 13 14]\n",
      " [15 16 17]\n",
      " [18 19 20]\n",
      " [21 22 23]\n",
      " [24 25 26]\n",
      " [27 28 29]]\n",
      "[ 0  1  2  3  4  5  6  7  8  9 10 11 12 13 14 15 16 17 18 19 20 21 22 23 24\n",
      " 25 26 27 28 29]\n"
     ]
    }
   ],
   "source": [
    "# some matrix in the shape of 10 by 3 \n",
    "someMatrix = np.arange(30).reshape(10,3)\n",
    "# flatten the matrix\n",
    "print(someMatrix.flatten())"
   ]
  },
  {
   "cell_type": "markdown",
   "metadata": {},
   "source": [
    "#### diag function\n",
    "Die Diagonale eine Matrix erhält man durch die `diag` Funktion, welche die Matrix und eventuell ein *offset* übergeben bekommt. Alternativ kann man die Funktion `diagonal`direkt auf dem Array aufrufen. "
   ]
  },
  {
   "cell_type": "code",
   "execution_count": 67,
   "metadata": {
    "collapsed": false
   },
   "outputs": [
    {
     "name": "stdout",
     "output_type": "stream",
     "text": [
      "[[ 0.48693375  0.37915977  0.5070796   0.82408141  0.70865803]\n",
      " [ 0.68945273  0.36724498  0.72940075  0.90485394  0.19960026]\n",
      " [ 0.31016     0.40484917  0.72582227  0.57000276  0.78244099]\n",
      " [ 0.52560615  0.61489971  0.22049464  0.4410948   0.73234121]\n",
      " [ 0.57919094  0.76108393  0.3774021   0.82113682  0.61736836]]\n",
      "----------------------------------------------------------\n",
      "[ 0.48693375  0.36724498  0.72582227  0.4410948   0.61736836]\n",
      "----------------------------------------------------------\n",
      "[ 0.5070796   0.90485394  0.78244099]\n",
      "----------------------------------------------------------\n",
      "[ 0.48693375  0.36724498  0.72582227  0.4410948   0.61736836]\n",
      "----------------------------------------------------------\n",
      "[ 0.31016     0.61489971  0.3774021 ]\n"
     ]
    }
   ],
   "source": [
    "# some matrix again in the shape of 5 by 5 and random numbers\n",
    "someMatrix = np.random.rand(25).reshape(5,5)\n",
    "print(someMatrix)\n",
    "print(\"----------------------------------------------------------\")\n",
    "# use of diag\n",
    "print(np.diag(someMatrix))\n",
    "print(\"----------------------------------------------------------\")\n",
    "print(np.diag(someMatrix, 2))   # with an offset of 2\n",
    "print(\"----------------------------------------------------------\")\n",
    "# call the function on the object itself\n",
    "print(someMatrix.diagonal())\n",
    "print(\"----------------------------------------------------------\")\n",
    "print(someMatrix.diagonal(-2))  # with an offset -2"
   ]
  },
  {
   "cell_type": "markdown",
   "metadata": {},
   "source": [
    "## [AUFGABE]\n",
    "Implementieren Sie eine Funktion `customDiag`, welche die Funktionalität der eben vorgestellten Funktion realisiert."
   ]
  },
  {
   "cell_type": "code",
   "execution_count": 68,
   "metadata": {
    "collapsed": false
   },
   "outputs": [
    {
     "name": "stdout",
     "output_type": "stream",
     "text": [
      "[ 1.  1.  1.  1.]\n",
      "[ 1.  1.  1.]\n",
      "[ 1.]\n",
      "[ 1.  1.  1.]\n",
      "[ 1.]\n"
     ]
    }
   ],
   "source": [
    "# create a funtion customDiag\n",
    "\n",
    "def customDiag(matratze, offset=0): # Standardwert für Offset ist 0\n",
    "    \n",
    "    # hier noch ne Validerung der Eingabe machen\n",
    "    \n",
    "    listee=[] # das wird die Diagonale\n",
    "    \n",
    "    i = 0\n",
    "    while i < matratze[0].size: # wir beginnen bei [0][0], also links oben inne Ecke\n",
    "        try:\n",
    "            if offset < 0:\n",
    "                value = matratze[i+abs(offset)][i] # wir fangen +offset weiter unten an und gehen schräg runter\n",
    "            else:\n",
    "                value = matratze[i][i+offset] # wir fangen +offset weiter rechts an und gehen schräg runter\n",
    "\n",
    "            # wenn wir hier ankommen, muss value ein gültiger Wert für die Diagonale sein\n",
    "            listee.append(value) # also hinzufügen\n",
    "            \n",
    "        except IndexError: # wir sind irgendwie rausgekommen aus den Dimensionen der Matratze\n",
    "            pass           # ist aber nicht weiter schlimm, einfach weiter machen\n",
    "        i+=1\n",
    "    \n",
    "    return np.array(listee) # als numpy array zurückgeben\n",
    "\n",
    "# make this work\n",
    "testMatrix = np.ones([4,4])\n",
    "print(customDiag(testMatrix))\n",
    "print(customDiag(testMatrix,1))\n",
    "print(customDiag(testMatrix,3))\n",
    "print(customDiag(testMatrix,-1))\n",
    "print(customDiag(testMatrix,-3))"
   ]
  },
  {
   "cell_type": "markdown",
   "metadata": {},
   "source": [
    "## [AUFGABE]\n",
    "Zur Wiederholung, lege Sie bitte jeweils eine Matrix(4x4) über die Möglichkeiten: Liste, arange, linespace, random.rand, random.randn, full und  zero an. Erinnern Sie sich an die Unterschiede und Limitation einzelner Varianten."
   ]
  },
  {
   "cell_type": "code",
   "execution_count": null,
   "metadata": {
    "collapsed": true
   },
   "outputs": [],
   "source": [
    "# a lot of matrixes\n"
   ]
  },
  {
   "cell_type": "markdown",
   "metadata": {
    "collapsed": true
   },
   "source": [
    "## Numpys Dateiformat\n",
    "Numpy hat ein eigenes Dateiformat, welche es ermöglicht die `ndarrays` zu speichern und wieder einzulesen. Hierfür werden die Funktionen `numpy.save` und `numpy.load` benutzt:"
   ]
  },
  {
   "cell_type": "code",
   "execution_count": 31,
   "metadata": {
    "collapsed": false
   },
   "outputs": [
    {
     "name": "stdout",
     "output_type": "stream",
     "text": [
      "[[ 0.41984026 -0.53678337  0.96354383  0.59926202 -0.40695817]\n",
      " [-1.96472731  1.2627941   1.06488224  0.93543625  0.64938886]\n",
      " [ 0.87075706  0.23015312 -1.03645035 -0.59434889 -0.42816931]\n",
      " [ 1.65385103  0.77093609 -0.22492213  0.9793807  -0.37237774]\n",
      " [ 0.8536109   0.20714373  0.40160166  0.21934984  0.27599389]] (5, 5)\n"
     ]
    }
   ],
   "source": [
    "saveThis = np.random.randn(5,5)          # create a random matrix\n",
    "np.save(\"zufallsmatrix.npy\", saveThis)   # save the matrix to a numpy file\n",
    "\n",
    "loadThis = np.load(\"zufallsmatrix.npy\")  # load the stored matrix\n",
    "print(loadThis, loadThis.shape)"
   ]
  },
  {
   "cell_type": "code",
   "execution_count": null,
   "metadata": {
    "collapsed": true
   },
   "outputs": [],
   "source": []
  }
 ],
 "metadata": {
  "anaconda-cloud": {},
  "kernelspec": {
   "display_name": "Python [conda env:GesundheitsInfo]",
   "language": "python",
   "name": "conda-env-GesundheitsInfo-py"
  },
  "language_info": {
   "codemirror_mode": {
    "name": "ipython",
    "version": 3
   },
   "file_extension": ".py",
   "mimetype": "text/x-python",
   "name": "python",
   "nbconvert_exporter": "python",
   "pygments_lexer": "ipython3",
   "version": "3.5.2"
  }
 },
 "nbformat": 4,
 "nbformat_minor": 0
}
