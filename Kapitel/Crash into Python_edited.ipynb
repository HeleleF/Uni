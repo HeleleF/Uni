{
 "cells": [
  {
   "cell_type": "markdown",
   "metadata": {},
   "source": [
    "# AKGI - Crashkurs in Python"
   ]
  },
  {
   "cell_type": "markdown",
   "metadata": {},
   "source": [
    "<center>\n",
    "    <img src=\"img/xkcd_python.png\" width=\"500\">\n",
    "</center>"
   ]
  },
  {
   "cell_type": "markdown",
   "metadata": {},
   "source": [
    "## Kommentare und Formatierung "
   ]
  },
  {
   "cell_type": "markdown",
   "metadata": {},
   "source": [
    "Zur Verständlichkeit und Wartbarkeit von Software sind Kommentare ein wichtiges Werkzeug. In Python werden Kommentare in einzeilige und mehrzeilige unterschieden."
   ]
  },
  {
   "cell_type": "code",
   "execution_count": null,
   "metadata": {
    "collapsed": false
   },
   "outputs": [],
   "source": [
    "# single line comment\n",
    "print ('Hello')\n",
    "\n",
    "# multi line comment\n",
    "\"\"\"\n",
    "print ('Hello')\n",
    "print ('Python')\n",
    "\"\"\"\n",
    "print ('Python')"
   ]
  },
  {
   "cell_type": "markdown",
   "metadata": {},
   "source": [
    "Ein wichtes Kernelement zur Lesbarkeit und Strukturierung von Quellcode ist seine Formatierung. Einige Programmiersprachen, beispiesweise Java, verwenden geschweifte Klammern, um die Codeblöcke zu definieren und von einander abzugrenzen. Python rückt rückt stattdessen ein:"
   ]
  },
  {
   "cell_type": "code",
   "execution_count": null,
   "metadata": {
    "collapsed": false
   },
   "outputs": [],
   "source": [
    "for i in [1, 2, 3]:\n",
    "    print (i)\n",
    "    for j in [1, 2, 3]:\n",
    "        print (i + j)\n",
    "    print ('done inner looping for {0}'.format(i))\n",
    "print ('done outer looping')\n"
   ]
  },
  {
   "cell_type": "markdown",
   "metadata": {},
   "source": [
    "Python-Code ist im Allgemeinen durch diese Eigenschaft sehr gut lesbar. Zu beachten ist jedoch, dass der Interpreter **Leerzeichen zwischen runden und eckigen Klammern ignoriert**. So wird es bespielsweise möglich eine Liste von Listen sehr übersichtlich als Matrix darzustellen."
   ]
  },
  {
   "cell_type": "code",
   "execution_count": null,
   "metadata": {
    "collapsed": false
   },
   "outputs": [],
   "source": [
    "matrix_hard_to_read = [[1,2,3],[4,5,6],[7,8,9]]\n",
    "\n",
    "matrix_easy_to_read = [[1,2,3],\n",
    "                       [4,5,6],\n",
    "                       [7,8,9]]\n",
    "\n",
    "print(matrix_hard_to_read == matrix_easy_to_read)"
   ]
  },
  {
   "cell_type": "markdown",
   "metadata": {},
   "source": [
    "## Module/Packete\n",
    "Viele Funktionalitäten von Python im Kern nicht mit ausgeliefert und somit auch nicht automatisch geladen. Um diese Module in der jeweiligen Anwendung freizuschalten müssen die entsprechenden Module mit dem Befehl _import_ aktiviert werden.\n",
    "Eine Möglichkeit ist es das Modul selbst zu importieren:"
   ]
  },
  {
   "cell_type": "code",
   "execution_count": null,
   "metadata": {
    "collapsed": false
   },
   "outputs": [],
   "source": [
    "# import package math\n",
    "import math\n",
    "\n",
    "x = 42 * math.cos(2 * math.pi)\n",
    "print(x)"
   ]
  },
  {
   "cell_type": "markdown",
   "metadata": {},
   "source": [
    "Hier wird das Modul _math_ hinzugefügt. Dadurch werden Funktionen und Konstanten der Mathematik aktiviert, welche in Python sonst nicht verfügbar sind. In dem Beispiel ist das die  _cos_ Funktion und die Konstante _pi_. Wenn Sie diese Art des Importierens verwenden, muss allen Elementen des Moduls der Präfix _math_ voran gestellt werden, um ihn in dem Programm zu nutzen. \n",
    "\n",
    "Dies kann zu einem Konfilkt führen, sofern Sie selber etwas mit dem Namen _math_ definiert haben, daher können Sie auch einen Alias für das importierte Modul verwenden."
   ]
  },
  {
   "cell_type": "code",
   "execution_count": null,
   "metadata": {
    "collapsed": false
   },
   "outputs": [],
   "source": [
    "import math as myMath\n",
    "\n",
    "x = 42 * myMath.cos(2 * myMath.pi)\n",
    "print(x)"
   ]
  },
  {
   "cell_type": "markdown",
   "metadata": {},
   "source": [
    "Dies kann ebenfalls sehr nützlich sein, sofern Ihr Modul einen langen oder komplizierten Namen hat. Zu einigen Modulen gibt es auch Konventionen, so ist es beispielsweise üblich für das Modul _matplotlib_ den Alias _plt_ als Notation zu verwenden. Als eine dritte Möglichkeit sei der direkte Import von Funktionen oder Konstanten aus Modulen noch erwähnt. Bei dieser Variante ist nicht die Verwendung des Präfixes notwendig. Mit _*_ können Sie auch alle Elemente eines Moduls hinzufügen."
   ]
  },
  {
   "cell_type": "code",
   "execution_count": null,
   "metadata": {
    "collapsed": false
   },
   "outputs": [],
   "source": [
    "from math import cos, pi\n",
    "\n",
    "x = 42 * myMath.cos(2 * myMath.pi)\n",
    "print(x)"
   ]
  },
  {
   "cell_type": "markdown",
   "metadata": {},
   "source": [
    "Mit _*_ können Sie auch alle Elemente eines Moduls hinzufügen. Doch achten Sie hierbei auf den Namensraum, da Sie sonst eigene definierte Parameter überschreiben oder die Elemente des Moduls überschreiben."
   ]
  },
  {
   "cell_type": "code",
   "execution_count": null,
   "metadata": {
    "collapsed": false
   },
   "outputs": [],
   "source": [
    "pi = 4\n",
    "print (pi)\n",
    "\n",
    "from math import *\n",
    "print(pi)\n",
    "\n",
    "pi = \"Pangalactic Gargleblaster\"\n",
    "print(pi)"
   ]
  },
  {
   "cell_type": "markdown",
   "metadata": {},
   "source": [
    "Welche Funktionen ein Modul zur Verfügung stellt kann man über die Dokumentation oder die _help_-Funktion herausbekommen."
   ]
  },
  {
   "cell_type": "code",
   "execution_count": null,
   "metadata": {
    "collapsed": false
   },
   "outputs": [],
   "source": [
    "help(math)"
   ]
  },
  {
   "cell_type": "markdown",
   "metadata": {},
   "source": [
    "## Variablen und Zuweisungen"
   ]
  },
  {
   "cell_type": "markdown",
   "metadata": {},
   "source": [
    "Variablen in Python bestehen aus alphanumerischen Zeichenketten _a-z_, _A-Z_, _0-9_ und einigen speziellen Zeichen, wie beispielsweise *_*. Normalerweise beginnen Variablennanmen in Python mit einem Buchstaben. \n",
    "\n",
    "Die Konvention in Python für Variablen ist, dass die Namen mit Minuskeln (Kleinbuchstaben) starten. Hingegen fangen Klassennamen immer mit Majuskeln (Großbuchstaben) an. Zusätzlich gibt es einige Schlüsselwörter, welche in Python nicht verwendet werden dürfen. Dies sind die folgenden:\n",
    "\n",
    "    and, as, assert, break, class, continue, def, del, elif, else, except, \n",
    "    exec, finally, for, from, global, if, import, in, is, lambda, not, or,\n",
    "    pass, print, raise, return, try, while, with, yield\n",
    "\n",
    "Zuweisungen werden in Python, wie in anderen Programmiersprachen auch üblich, mit dem Operator *=* durchgeführt. Die Typisierung der so erzeugten Variable geschiet implizit. (implizite Typisierung = Datentyp muss nicht davor geschrieben werden; Gegenteil explizite Typisierung).\n",
    "Den Typ einer Variable können Sie jedoch durch die Funktion *type()* identifizieren."
   ]
  },
  {
   "cell_type": "code",
   "execution_count": null,
   "metadata": {
    "collapsed": false
   },
   "outputs": [],
   "source": [
    "final_answer = 42\n",
    "print (final_answer)\n",
    "print (type(final_answer))"
   ]
  },
  {
   "cell_type": "code",
   "execution_count": null,
   "metadata": {
    "collapsed": false
   },
   "outputs": [],
   "source": [
    "import math\n",
    "\n",
    "print (type(math.pi))"
   ]
  },
  {
   "cell_type": "markdown",
   "metadata": {},
   "source": [
    "## Arithmetik\n",
    "\n",
    "Die bekannten arithmetischen Operationen funktionieren analog zu vielen anderen Programmiersprachen:"
   ]
  },
  {
   "cell_type": "code",
   "execution_count": null,
   "metadata": {
    "collapsed": false
   },
   "outputs": [],
   "source": [
    "# Addition + \n",
    "print(\"7 + 4 = \", 7 + 4)\n",
    "\n",
    "# Subtraktion -\n",
    "print(\"7 - 4 = \", 7 - 4)\n",
    "\n",
    "# Multiplikation *\n",
    "print(\"7 * 4 = \", 7 * 4)\n",
    "\n",
    "# Division /\n",
    "print(\"7 / 4 = \", 7 / 4)\n",
    " \n",
    "# Division (ganzzahlig) //\n",
    "print(\"7 / 4 (ganzzahlig) = \", 7 // 4)\n",
    "\n",
    "# Modulo %\n",
    "print(\"7 / 4 (Rest) = \", 7 % 4)\n",
    "\n",
    "# Exponentialfunktion **\n",
    "print(\"7 ^ 4 = \", 7 ** 4)\n"
   ]
  },
  {
   "cell_type": "markdown",
   "metadata": {},
   "source": [
    "## Strings\n",
    "\n",
    "String lassen sich durch einfache oder doppelte Anführungszeichen in Python deklarieren. Es ist nur wichtig, dass Sie eine Variante bei der Dekleration konsistent verwenden."
   ]
  },
  {
   "cell_type": "code",
   "execution_count": null,
   "metadata": {
    "collapsed": false
   },
   "outputs": [],
   "source": [
    "single_quoted = 'Zaphod Beeblebrox'\n",
    "double_quoted = \"Marvin\"\n",
    "test1 = \"teststring\"\n",
    "test2 = 'teststring'\n",
    "print(test1==test2)"
   ]
  },
  {
   "cell_type": "markdown",
   "metadata": {},
   "source": [
    "Zur Verwendung von Sonderzeichen in Strings kann man in Python einen Backslash benutzen, wie: "
   ]
  },
  {
   "cell_type": "code",
   "execution_count": null,
   "metadata": {
    "collapsed": false
   },
   "outputs": [],
   "source": [
    "single_quoted  = 'The Hitchhiker\\'s Guide to the Galaxy'\n",
    "print(single_quoted)\n",
    "\n",
    "some_tabs = \"Earth\\tMoon\\tMars\"\n",
    "print (some_tabs)    \n",
    "print (len(some_tabs))      \n"
   ]
  },
  {
   "cell_type": "markdown",
   "metadata": {},
   "source": [
    "Sollten Sie einen Bckslash in einem String selbst benötigen, wie es in einem Dateipfad unter Windows oder in regulären Ausdrücken vorkommen kann, ist es möglich einen _raw_ String zu deklarieren. Dies geht mit einem _r_ vor dem String."
   ]
  },
  {
   "cell_type": "code",
   "execution_count": null,
   "metadata": {
    "collapsed": false
   },
   "outputs": [],
   "source": [
    "without_tab = r\"Earth\\tMoon\\tMars\"\n",
    "print (without_tab)\n",
    "print (len(without_tab))"
   ]
  },
  {
   "cell_type": "markdown",
   "metadata": {},
   "source": [
    "Wie bei den Kommentaren kann man einen String ebenfalls über mehrere Zeilen deklarieren. Zeilenumbrüche, Tabulatoren etc., die Sie in dieser Art formatieren, werden übernommen."
   ]
  },
  {
   "cell_type": "code",
   "execution_count": null,
   "metadata": {
    "collapsed": false
   },
   "outputs": [],
   "source": [
    "very_long_string = \"\"\"The Hitchhiker's Guide to the Galaxy (sometimes referred to as HG2G, HHGTTG or H2G2) is \n",
    "    a comedy science fiction series created by Douglas Adams. Originally a radio comedy \n",
    "        broadcast on BBC Radio 4 in 1978, it was later adapted to other formats, including stage \n",
    "            shows, novels, comic books, a 1981 TV series, a 1984 computer game, and 2005 feature \n",
    "                film. \"\"\"\n",
    "\n",
    "print(very_long_string)"
   ]
  },
  {
   "cell_type": "markdown",
   "metadata": {},
   "source": [
    "## Funktionen"
   ]
  },
  {
   "cell_type": "markdown",
   "metadata": {},
   "source": [
    "Eine Funnktion nimmt keine oder beliebige Eingabewerte an und liefert basierend darauf eine entsprechende Ausgabe. In Python werden Funktionen durch das Schlüsselwort _def_ deklariert."
   ]
  },
  {
   "cell_type": "code",
   "execution_count": null,
   "metadata": {
    "collapsed": false
   },
   "outputs": [],
   "source": [
    "# use 'def' to declare a function and use ':' at the end of the declaration\n",
    "def myPowerOfTwo(x):\n",
    "    \"\"\"Here you can provide information about your function as a docstring\n",
    "       That function returns the power of two to a given number (x -> x^2).\n",
    "    \"\"\"\n",
    "    return x*x\n",
    "\n",
    "print (myPowerOfTwo(3)) # call custom power of two with 3"
   ]
  },
  {
   "cell_type": "markdown",
   "metadata": {},
   "source": [
    "Funktionen in Python sind generell [first-class-Funktion](https://en.wikipedia.org/wiki/First-class_function). Es ist entsprechend erlaubt Funktionen einer Variablen zu zuweisen oder Funktionen als Argument einer anderen Funktion zu übergeben. "
   ]
  },
  {
   "cell_type": "code",
   "execution_count": null,
   "metadata": {
    "collapsed": false
   },
   "outputs": [],
   "source": [
    "def seven(function):\n",
    "    \"\"\"Applies one to a given function\"\"\"\n",
    "    return function(7)\n",
    "\n",
    "boxed_function = myPowerOfTwo # assign function to a variable\n",
    "print (seven(boxed_function))  # call boxed_function with seven"
   ]
  },
  {
   "cell_type": "markdown",
   "metadata": {},
   "source": [
    "Anonyme Klassen lassen sich in Python über das Schlüsselwort _lambda_ definieren. "
   ]
  },
  {
   "cell_type": "code",
   "execution_count": null,
   "metadata": {
    "collapsed": false
   },
   "outputs": [],
   "source": [
    "print (seven(lambda x: x**3)) # call and print seven with anonym function x**3"
   ]
  },
  {
   "cell_type": "markdown",
   "metadata": {},
   "source": [
    "Eine weitere, schöne Eigenschaft von Funktionen in Python ist, dass sich Standardwerte für die Argemunte definieren lassen. Diese werden verwendet, wenn keine Argumente oder nur anteilig übergeben werden."
   ]
  },
  {
   "cell_type": "code",
   "execution_count": null,
   "metadata": {
    "collapsed": false
   },
   "outputs": [],
   "source": [
    "# define default value for your argument\n",
    "def replyMessage(answer=\"42 is always a good answer\"):\n",
    "    \"\"\"returns a given message or a default one\"\"\"\n",
    "    return answer\n",
    "\n",
    "print (replyMessage(\"My personal answer!\")) # prints your message\n",
    "print (replyMessage())                      # prints default message\n",
    "print (\"---\")\n",
    "\n",
    "def xToThePowerOfy(base=0,power=0):\n",
    "    return base**power\n",
    "\n",
    "print (xToThePowerOfy(3,3)) # returns 3**3\n",
    "print (xToThePowerOfy(3))   # returns 3**0\n",
    "print (xToThePowerOfy(power=3)) # returns 0**3 - you can assign a specific argument \n",
    "print (xToThePowerOfy()) # returns 0**0"
   ]
  },
  {
   "cell_type": "markdown",
   "metadata": {},
   "source": [
    "## Exceptions"
   ]
  },
  {
   "cell_type": "markdown",
   "metadata": {},
   "source": [
    "Sofern es zu einem Fehler beim Interpretieren kommt, generiert Python eine _Exception_. Ist diese nicht behandelt bricht Python das Programm an der Stelle ab. Mit den Schlüsselwörtern _try_ und _except_ können Sie eine eigene Ausnahme generieren. Welche vordefinierten Ausnahmen es gibt, kann der [Dokumentation](https://docs.python.org/3.6/library/exceptions.html) entnommen werden."
   ]
  },
  {
   "cell_type": "code",
   "execution_count": null,
   "metadata": {
    "collapsed": false
   },
   "outputs": [],
   "source": [
    "try:\n",
    "    print (3/0)\n",
    "    print (0/3)\n",
    "except ZeroDivisionError:\n",
    "    print (\"you cannot divide a number by zero\")\n"
   ]
  },
  {
   "cell_type": "markdown",
   "metadata": {},
   "source": [
    "## Kontrollfluss\n",
    "Wie in den meisten Programmiersprachen auch könne Anweisung in Python durch _if_ bedingt ausgeführt werden."
   ]
  },
  {
   "cell_type": "code",
   "execution_count": null,
   "metadata": {
    "collapsed": false
   },
   "outputs": [],
   "source": [
    "num = 1\n",
    "# num = \"hallo?\"\n",
    "try:\n",
    "    if num > 0:\n",
    "        print (\"one or more\")\n",
    "    elif num < 0:\n",
    "        print (\"under zero\")\n",
    "    else:\n",
    "        print (\"zero, right?\")\n",
    "except TypeError:\n",
    "    print(\"Irgendwas stimmt nicht\")"
   ]
  },
  {
   "cell_type": "markdown",
   "metadata": {},
   "source": [
    "Eine ternäre Anweisung (if-then-else) lässt sich in Python auch in einer Zeile schreiben."
   ]
  },
  {
   "cell_type": "code",
   "execution_count": null,
   "metadata": {
    "collapsed": false
   },
   "outputs": [],
   "source": [
    "x = 42\n",
    "\n",
    "print (True if x == 42  else False) # correct answer?\n",
    "print (\"even\" if x % 2 == 0 else \"odd\") # is the number even or odd?"
   ]
  },
  {
   "cell_type": "markdown",
   "metadata": {},
   "source": [
    "In Python existiert eine _while_-Schleife."
   ]
  },
  {
   "cell_type": "code",
   "execution_count": null,
   "metadata": {
    "collapsed": false
   },
   "outputs": [],
   "source": [
    "# while loop\n",
    "x = 0\n",
    "while x < 10:\n",
    "    print (x, \"is less than 10\")\n",
    "    x += 1"
   ]
  },
  {
   "cell_type": "markdown",
   "metadata": {},
   "source": [
    "Am weitesten verbreitet ist jedoch die _for_-Schleife, die zusammen mit Objekten verwendet wird, die sich iterieren lassen. Hier die allgemeine Syntax:\n",
    "\n",
    "    for item in list:\n",
    "        print (item) # do something with one item of the list\n",
    "\n",
    "Die Schlüsselwörter _for_ und _in_ sind notwendig. _list_ kann eine Variable oder Objekt sein, welches sich wie eine Liste iterieren lässt. _item_ ist der Name, welcher innerhalb der Schleife das aktuelle Objekt aus _list_ referenziert. Jede Iteration passt sich _item_ dem nächsten Element aus _list_ an.\n",
    "\n",
    "Hier ein paar Beispiele:"
   ]
  },
  {
   "cell_type": "code",
   "execution_count": null,
   "metadata": {
    "collapsed": false
   },
   "outputs": [],
   "source": [
    "# for loop with list of numbers \n",
    "for x in [1,2,3]:\n",
    "    print(x)\n",
    "    \n",
    "# for loop with list of strings     \n",
    "sentence = \"\"\n",
    "for word in [\"Medical\", \"data\", \"science\", \"with\", \"python\"]:\n",
    "    sentence += word + \" \"\n",
    "print (sentence)"
   ]
  },
  {
   "cell_type": "markdown",
   "metadata": {},
   "source": [
    "Mit den Schlüsselworten _continue_ und _break_ kann man Einfluß auf den Schleifendurchlauf nehmen. _continue_ ermöglichte es die Iteration zu beenden und _break_ beendet die gesamte Schleife."
   ]
  },
  {
   "cell_type": "code",
   "execution_count": null,
   "metadata": {
    "collapsed": false
   },
   "outputs": [],
   "source": [
    "for x in [1, 2, 3, 4, 5, 6, 7, 8, 9, 10]:\n",
    "    if x % 2 == 0:\n",
    "        continue # jump over even numbers\n",
    "    if x == 7: \n",
    "        break    # break out of loop at 7\n",
    "    print(x)"
   ]
  },
  {
   "cell_type": "markdown",
   "metadata": {},
   "source": [
    "## Listen\n",
    "- Eine wichtigesten Datenstrukturen in Python sind Listen _list_. Ähnlich einem Arrays in anderen Programmiersprachen, aber sie bieten mehr Funktionalität. Erläutern Sie _list_\n",
    "- Geben Sie ein Beispiel für das Erzeugen einer Liste von einem Datentyp, unterschiedlichen Datentypen und einer Liste von Listen. Zeigen Sie wie die Länge einer Liste berechnet werden kann.\n",
    "- Erläutern Sie das Zugreifen auf Listen über einen Index. Berücksichtigen Sie dabei Index 0 und negative Indizes.\n",
    "- Geben Sie dazu Beispiele\n",
    "- Erläutern Sie _slicing_ (:) in Kontext von Listen\n",
    "- Geben Sie dazu Beispiele.\n",
    "- Erläutern Sie den Operator _in_\n",
    "- Geben Sie ein Beispiel\n",
    "- Erläutern Sie die Funktionen (_extend, append, insert, remove_) auf Listen und stellen Sie dar, wie man durch _+_ Listen verbinden kann. Wie unterscheidet sich dies zu _extend_?\n",
    "- Geben Sie Beispiele\n",
    "- Listen kann man bequem in einzelne Variablen aufteilen: x,y = [1, 2]. Erläuterns Sie dies und geben Sie ein Beipiel. Was passiert, wenn die Elemente unterschieldlichen Länge haben? Wofür kann man eine Wildcard \\_ in diesem Zusammenhang verwenden?\n",
    "- Denken Sie sich eine kleine Übung aus."
   ]
  },
  {
   "cell_type": "markdown",
   "metadata": {},
   "source": [
    "List Erläuterung"
   ]
  },
  {
   "cell_type": "markdown",
   "metadata": {
    "collapsed": true
   },
   "source": [
    "### Erzeugen von Listen, Länge\n",
    "- 6 Typen von Sequenzen in Python -> Listen, Tupel am häufigsten\n",
    "- sind veränderbar!\n",
    "- Werte durch Kommata getrennt in eckigen Klammern\n",
    "- len() gibt die Länge der Liste zurück"
   ]
  },
  {
   "cell_type": "code",
   "execution_count": null,
   "metadata": {
    "collapsed": false
   },
   "outputs": [],
   "source": [
    "schrott_l1 = [\"h\",\"a\",\"l\",\"l\",\"ü\"]\n",
    "schrott_l2 = [1,3,3,7,7,3,3,1]\n",
    "list_list = [[],[0,0,0],[1,2,3],[\"a\",\"b\",\"c\"],[5,4,\"f\"]] # 5 Elemente: leere Liste, Nullenliste, Zahlenliste, Buchstabenliste, beides\n",
    "\n",
    "print(schrott_l1)\n",
    "print(schrott_l2)\n",
    "print(list_list)\n",
    "print(\"Länge Liste 2: \", len(schrott_l2))\n",
    "print(\"Länge Listeliste: \", len(list_list)) "
   ]
  },
  {
   "cell_type": "markdown",
   "metadata": {
    "collapsed": true
   },
   "source": [
    "### Listenindex\n",
    "- Index beginnt bei 0 (wie Arrays in Java)\n",
    "- Zugriff über Listenname + eckigen Klammern mit dem Index darin\n",
    "- Elemente werden also angesprochen von 0 bis Länge -1 \n",
    "- rückwarts gehts auch: dann negativer Index\n",
    "- [-1] ist also das erste Element von rechts usw..."
   ]
  },
  {
   "cell_type": "code",
   "execution_count": null,
   "metadata": {
    "collapsed": false
   },
   "outputs": [],
   "source": [
    "try:\n",
    "    print(schrott_l1[0])\n",
    "    print(schrott_l1[1])\n",
    "    print(schrott_l1[2])\n",
    "    print(schrott_l2[8]) # Fehler! Schrott2 hat 8 Elemente, also Index 0 bis 7\n",
    "except IndexError:\n",
    "    print(\"Index falsch!\")\n",
    "\n",
    "try: # negative Indices gehen auch\n",
    "    print(schrott_l1[-1]) \n",
    "    print(schrott_l1[-2])\n",
    "    print(schrott_l1[-3])\n",
    "    print(schrott_l1[-4])\n",
    "    print(schrott_l1[-5])\n",
    "    print(schrott_l1[-6]) # Fehler! Schrott1 hat 5 Elemente, also Negativ-Index -1 bis -5\n",
    "except IndexError:\n",
    "    print(\"Negativ-Index falsch!\")"
   ]
  },
  {
   "cell_type": "markdown",
   "metadata": {
    "collapsed": true
   },
   "source": [
    "### Listen slicing\n",
    "- zum Zerteilen von Listen \n",
    "- Syntax \n",
    "        [start:ende:skip]"
   ]
  },
  {
   "cell_type": "code",
   "execution_count": null,
   "metadata": {
    "collapsed": false
   },
   "outputs": [],
   "source": [
    "werte = [0,1,2,3,4,5,6,7,8,9,10]\n",
    "\n",
    "print(werte[3:]) # 3. Index bis zum Ende\n",
    "print(werte[:3]) # Anfang bis zum 3. Index (3. Index selber nicht mit drin)\n",
    "print(werte[3:7]) # 3. Index bis 7. Index (7. Index selber nicht mit drin)\n",
    "print(werte[::3]) # Anfang bis Ende, immer 3 Indices weiterspringen\n",
    "print(werte[3:-1]) # 3. Index bis 1 Indices vor dem Ende (vorletztes Element also)\n",
    "print(werte[3:-2:2]) # 3. Index bis 2 Indices vor dem Ende (vor-vorletztes Element also), immer 2 Indices weiterspringen"
   ]
  },
  {
   "cell_type": "markdown",
   "metadata": {
    "collapsed": true
   },
   "source": [
    "### Operator in\n",
    "- gibt True zurück, wenn ein Wert in einer Liste vorhanden ist, ansonsten False\n",
    "- Gegenteil ist not in"
   ]
  },
  {
   "cell_type": "code",
   "execution_count": null,
   "metadata": {
    "collapsed": false
   },
   "outputs": [],
   "source": [
    "print(11 in werte) # nein\n",
    "print(5 in werte) # ja\n",
    "print(11 not in werte) # ja"
   ]
  },
  {
   "cell_type": "markdown",
   "metadata": {
    "collapsed": true
   },
   "source": [
    "### Funktionen für Listen\n",
    "- extend() erweitert eine Liste um eine Sequenz -> Liste wird verändert\n",
    "- append() erweitert die Liste um ein Element -> Liste wird verändert\n",
    "- remove() entfernt ein Element aus der Liste -> Liste wird verändert\n",
    "- insert() fügt ein Element in die Liste an einem bestimmten Index ein -> Liste wird verändert\n",
    "- alle Funktionen haben keine Rückgabe"
   ]
  },
  {
   "cell_type": "code",
   "execution_count": null,
   "metadata": {
    "collapsed": false
   },
   "outputs": [],
   "source": [
    "aList = [1,2,3,4,\"a\",\"b\",\"c\"]\n",
    "bList = [\"d\", \"e\",\"f\"]\n",
    "cList = [9,8,7,\"g\",\"h\"]\n",
    "dList = [5,6,\"i\"]\n",
    "\n",
    "print(aList)\n",
    "aList.extend(dList)\n",
    "print(aList) # aList ist verändert\n",
    "\n",
    "bList.append(\"z\")\n",
    "print(bList)\n",
    "try:\n",
    "    bList.remove(\"z\")\n",
    "    print(bList)\n",
    "    bList.remove(\"y\")\n",
    "    print(bList)\n",
    "except ValueError:\n",
    "    print(\"Ich kann nicht etwas entfernen, was nicht da ist!\")\n",
    "\n",
    "cList.insert(0,10) # 10 vorne ranhängen\n",
    "cList.insert(0,11) # 11 vorne ranhängen\n",
    "print(cList)\n"
   ]
  },
  {
   "cell_type": "markdown",
   "metadata": {
    "collapsed": true
   },
   "source": [
    "### Unterschied \"+\" und \"extend\"\n",
    "- \"extend\" verändert die Liste\n",
    "- \"+\" konkateniert Listen, d.h. es ensteht eine neue Liste, die alten Listen werden nicht verändert"
   ]
  },
  {
   "cell_type": "code",
   "execution_count": null,
   "metadata": {
    "collapsed": false
   },
   "outputs": [],
   "source": [
    "dList.extend(cList)\n",
    "dList.extend(bList)\n",
    "print(dList) # dList ist verändert\n",
    "\n",
    "neu = cList + bList\n",
    "print(neu)\n",
    "print(\"c: \", cList, \"; b: \", bList) # c und b List sind gleich geblieben"
   ]
  },
  {
   "cell_type": "markdown",
   "metadata": {
    "collapsed": true
   },
   "source": [
    "### Listen aufteilen + Wildcards\n",
    "- man kann Listen \"auspacken\" und Variablen zuordnen\n",
    "- Liste mit 3 Elementen auf 3 Variablen aufteilen\n",
    "- Liste bleibt aber unberührt\n",
    "- \\_ kann als Wildcard benutzt werden, falls ein Wert nicht gebraucht wird\n",
    "- für mehrere unbenutzte Werte geht auch \\*"
   ]
  },
  {
   "cell_type": "code",
   "execution_count": null,
   "metadata": {
    "collapsed": false
   },
   "outputs": [],
   "source": [
    "listr1 = [1,2,3]\n",
    "listr2 = [1,2,3,4,5]\n",
    "\n",
    "a,b,c = listr1\n",
    "print(\"a =\",a, \",b =\",b, \",c =\",c)\n",
    "print(listr1)\n",
    "try:\n",
    "    d,e,f = listr2 # geht nicht\n",
    "    g,h,i,j,k,l = listr2 # geht auch nicht\n",
    "except ValueError:\n",
    "    print(\"Zu viele oder zu wenige zum Auspacken!\")\n",
    "    \n",
    "d,e,f,_,_ = listr2 # das geht, wir ignorieren einfach die letzten beiden\n",
    "print(\"d =\",d, \",e =\",e, \",f =\",f)\n",
    "\n",
    "_,x,*muell = listr2 # geht auch, erster ignoriert, 2. wird in x gepackt, die anderen kommen in die Liste muell\n",
    "print(x)\n",
    "print(muell) # Rest"
   ]
  },
  {
   "cell_type": "markdown",
   "metadata": {},
   "source": [
    "## Tupel\n",
    "- Tupel _(x,y)_ sind ähnlich zu Listen mit zwei Elementen, können jedoch nicht verändert werden. \n",
    "- Erläutern Sie die zwei Möglichkeiten ein Tupel deklarieren. Geben Sie diese als Beipiele.\n",
    "- Erläutern Sie einige Funktionen die sowohl auf Listen als auch auf Tupeln funktionieren.\n",
    "- Geben Sie dafür Beispiele.\n",
    "- Erläutern Sie Tupel als Rückgabewert von Funktionen. So können zwei Rückgabewerte bequem über eine Funktion erfolgen.\n",
    "- Geben Sie ein Beispiel.\n",
    "- Durch Tupel kann man multiple Zuweisungen realisieren x,y = 1,2 und es wird möglich Variablen Inhalte bequem zu tauschen. Erläutern Sie dies und geben Sie Beipiele.\n",
    "- Denken Sie sich eine kleine Übung aus.\n",
    "- Erläutern Sie die Funktion _zip_ um aus zwei Listen eine Liste von Tupel zu machen. Was passiert beispielsweise, wenn die Listen unterschiedlicher Länge sind? Geben Sie ein paar Beispiele.\n",
    "- Mit dem _*_ Operator kann man dieses Packen wieder umkehren. Geben Sie ein Beispiel."
   ]
  },
  {
   "cell_type": "markdown",
   "metadata": {},
   "source": [
    "### Erzeugen von Tupel\n",
    "- 6 Typen von Sequenzen in Python -> Listen, Tupel am häufigsten\n",
    "- sind nicht veränderbar!\n",
    "- Werte durch Kommata getrennt in normalen Klammern\n",
    "- Indices wie bei Listen\n",
    "- können ebenfalls zerteilt und zusammengefügt werden"
   ]
  },
  {
   "cell_type": "code",
   "execution_count": null,
   "metadata": {
    "collapsed": false
   },
   "outputs": [],
   "source": [
    "tup1 = ('schrott', 'mehr schrott', 1337, 7331);\n",
    "tup2 = (1, 2, 3, 4, 5 );\n",
    "tup3 = \"a\", \"b\", \"c\", \"d\";\n",
    "tupleer = ()\n",
    "tuplesingle = (23,) # Tupel mit nur einem Wert braucht trotzdem ein Komma!\n",
    "\n",
    "print(tup1[0]) # Indexen wie bei Listen\n",
    "print(tup1[-1])\n",
    "print(tup2[2:4]) # Slicen wie bei Listen\n",
    "try:\n",
    "    tup1[3] = \"neu\" # das geht nicht\n",
    "except TypeError:\n",
    "    print(\"Schade schade schokolade\")\n",
    "\n",
    "print(tup2+tup3) # geht auch wie bei Listen\n",
    "print(len(tuplesingle)) # geht auch\n",
    "print(\"c\" in tup3) # geht auch\n"
   ]
  },
  {
   "cell_type": "code",
   "execution_count": null,
   "metadata": {
    "collapsed": false
   },
   "outputs": [],
   "source": [
    "def functest(x):\n",
    "    return (x ** 2, x ** 3, x ** 4) # tupel zurückgeben\n",
    "\n",
    "values = functest(4) # entweder das tupel ausdrucken\n",
    "print(values)\n",
    "\n",
    "v1, v2, v3 = functest(4) # oder die werte in variablen auspacken, wie bei listen\n",
    "print(v1, v2, v3)\n",
    "\n",
    "a = 5\n",
    "b = 9\n",
    "print(a,b)\n",
    "(b,a) =(a,b) # damit kann man easy Variablen vertauschen; a wird ausgepackt und in b reingesteckt, b in a reingesteckt\n",
    "print(a,b)"
   ]
  },
  {
   "cell_type": "code",
   "execution_count": null,
   "metadata": {
    "collapsed": false
   },
   "outputs": [],
   "source": [
    "a = [1,2,3,4,5]\n",
    "b = [9,8,7,6,5]\n",
    "tup_neu = zip(a,b) # eine Liste mit 5 2er Tupel\n",
    "print(tup_neu)\n",
    "\n",
    "c,d = zip(*tup_neu) # wieder ausgepackt in die Liste\n",
    "print(c,d)"
   ]
  },
  {
   "cell_type": "markdown",
   "metadata": {},
   "source": [
    "## Dictionaries\n",
    "- Erläutern Sie die Datenstruktur Dictonary _{}_, das Schlüssel (keys) eindeutig Werten (values) zuordnet. Was sind beispielhafte Anwendungszwecke von Dictonaries. \n",
    "- Geben Sie ein Beispiel zum Erstellen eines Dictonaries\n",
    "- Erläutern Sie wie man auf einen Wert im Dictonary zugreift. Was passiert, wenn ein Schlüssel nicht vorhaden ist? Gibt es eine Möglichkeit die Existenz eines Schlüssel zu prüfen? Was macht die Funktion _get_?\n",
    "- Gebene Sie Beispiele hierzu.\n",
    "- Erläutern Sie wie man einem Dictonary einen Key-Value-Paar hinzufügt und einem Schlüssel einen neuen Wert zuweist.\n",
    "- Geben Sie ein Beipiel.\n",
    "- Wie bekommt man eine Liste von Schlüsseln, Werten oder Key-Value-Paaren zurück? \n",
    "- Geben Sie Beispiel.\n",
    "- Übung: Aus einem Textdokument sollen alle Wörter als Schlüssel übernommen werden. Für jedes Vorkommen des Wortes im Text wird der Wert des Schlüssels um 1 erhöht. Implementieren Sie diese Lösung."
   ]
  },
  {
   "cell_type": "markdown",
   "metadata": {},
   "source": [
    "### Dictionary Anwendungen\n",
    "- wie eine Map\n",
    "- besteht aus Schlüssel-Werte-Paaren, getrennt durch Kommata, in geschweiften Klammern\n",
    "- Doppelpunkt zwischen Schlüssel und Wert\n",
    "- Schlüssel müssen einzigartig sein, dürfen nicht veränderbar sein (Tupel oder Strings z.b.)\n",
    "- Zugriff geht über eckige Klammern um Schlüsselname\n",
    "- nicht vorhandene Schlüssel schmeißen KeyError\n",
    "\n",
    "- Schlüsselexistenz kann man mit in Operator prüfen\n",
    "\n",
    "- get() gibt für einen Schlüssel den Wert zurück, oder einen default-Wert, wenn der Schlüssel nicht existiert"
   ]
  },
  {
   "cell_type": "code",
   "execution_count": null,
   "metadata": {
    "collapsed": false
   },
   "outputs": [],
   "source": [
    "ndict = {'Name': 'Hoi', 'Alter': '20', 'Wohnort': 'Hier', 'lirum': 'larum'}\n",
    "print(ndict)\n",
    "print(\"Wohnort:\", ndict['Wohnort'])\n",
    "\n",
    "try:\n",
    "    print(ndict['Beruf']) # das geht so nicht\n",
    "except KeyError:\n",
    "    print(\"Probieren Sie's nochmal!\")\n",
    "    \n",
    "if 'Beruf' in ndict: # so ist's besser\n",
    "    print(ndict['Beruf'])\n",
    "print(\"gibbet nich\")\n",
    "\n",
    "\n",
    "print(ndict.get('Name'))\n",
    "print(ndict.get('Beruf')) # das geht ohne Probleme, wir haben ja einen default"
   ]
  },
  {
   "cell_type": "markdown",
   "metadata": {},
   "source": [
    "### Dictionary updaten + Liste von Schlüsseln, Werten etc\n",
    "- für neues Paar einfach den neuen Schlüsselwert in eckigen Klammern schreiben und den neuen Wert zuweisen\n",
    "- fürs updaten genauso\n",
    "- keys() gibt eine Liste aller Schlüssel zurück\n",
    "- ebenso gibt es values() für eine Werte-Liste\n",
    "- und items() für eine Liste aller Tupel"
   ]
  },
  {
   "cell_type": "code",
   "execution_count": null,
   "metadata": {
    "collapsed": false
   },
   "outputs": [],
   "source": [
    "ndict['neuer key'] = 'neuer wert' #unkompliziert\n",
    "ndict['Name'] = 'Löffelstiel' # auch\n",
    "print(ndict) # tada\n",
    "\n",
    "print(ndict.keys()) # selbsterklärend\n",
    "print(ndict.values())\n",
    "print(ndict.items()) # Liste von Tupeln"
   ]
  },
  {
   "cell_type": "code",
   "execution_count": null,
   "metadata": {
    "collapsed": false
   },
   "outputs": [],
   "source": [
    "# implement your own word count\n",
    "wordcount = {} # dict to count words\n",
    "\n",
    "with open('hhgttg.txt') as file:  # opens you the txt file and will close it after\n",
    "    for word in file.read().split(): \n",
    "        \n",
    "        if word not in wordcount: # wenn word nicht im Dictionary ist, \n",
    "            wordcount[word] = 0 # füge word hinzu (und setze seinen Count auf 0)\n",
    "        \n",
    "        # hier muss word in wordcount existieren, also...\n",
    "        wordcount[word] += 1 # ...erhoehe Count für word um 1\n",
    "        \n",
    "    print (wordcount) # ausdrücken"
   ]
  },
  {
   "cell_type": "markdown",
   "metadata": {},
   "source": [
    "### defaultdict\n",
    "\n",
    "- Erläutern Sie ein _defaultdict_ aus dem Modul _collections_.  \n",
    "- Geben sie ein Beispiel."
   ]
  },
  {
   "cell_type": "markdown",
   "metadata": {},
   "source": [
    "- erweitert dict\n",
    "- damit wird es möglich, Keys abzufragen, die noch nicht im dict sind\n",
    "- anstelle eines KeyErrors wird einfach ein neuer Wert angelegt\n",
    "- Typ davon kann man als Argument angeben, z.b int"
   ]
  },
  {
   "cell_type": "code",
   "execution_count": null,
   "metadata": {
    "collapsed": false
   },
   "outputs": [],
   "source": [
    "# aus der python docu\n",
    "from collections import defaultdict # erstmal ranholen\n",
    "\n",
    "s = [('yellow', 1), ('blue', 2), ('yellow', 3), ('blue', 4), ('red', 1)] # eine Liste von Tupeln\n",
    "\n",
    "d = defaultdict(list) # Werte für nicht vorhandene Schlüssel werden mit list() erzeugt, also leere Listen\n",
    "\n",
    "for k, v in s: # auspacken in Schlüssel und Wert\n",
    "    d[k].append(v) \n",
    "    \n",
    "print(d.items())"
   ]
  },
  {
   "cell_type": "markdown",
   "metadata": {},
   "source": [
    "### counter\n",
    "- Ein _counter_ aus _Collections_ wandelt ein Abfolge von Werten in ein _defaultdict(int)_-ähnlichhes Objekt um. Erläutern Sie was die Funktionalität ist.\n",
    "- Geben sie ein Beispiel.\n",
    "- Wie sieht eine Lösung zum Zählen der Wörter mit _counter_ aus? Geben Sie mittels _most\\_common_ die häufigsten Elemente an."
   ]
  },
  {
   "cell_type": "code",
   "execution_count": null,
   "metadata": {
    "collapsed": false
   },
   "outputs": [],
   "source": [
    "# aus der python docu\n",
    "from collections import Counter # auch eine Art von dict, optimiert für schnelles Zählen von z.b. Worten\n",
    "\n",
    "cnt = Counter()\n",
    "for word in ['schrott', 'schrott', 'red', 'blue', 'schrott', 'red', 'green', 'blue', 'blue', 'schrott']:\n",
    "    cnt[word] += 1\n",
    "    \n",
    "print(cnt)\n",
    "\n",
    "knut = Counter()\n",
    "\n",
    "with open('hhgttg.txt') as file:  # opens you the txt file and will close it after\n",
    "    for word in file.read().split():\n",
    "        knut[word] += 1\n",
    "        \n",
    "print(knut.most_common(10)) # die 10 häufigsten Elemente\n",
    "\n"
   ]
  },
  {
   "cell_type": "markdown",
   "metadata": {},
   "source": [
    "## Sets\n",
    "- Erläutern Sie die Datenstruktur set, die Mengen repräsentieren. Was passiert wennn ein Element wiederholt in eine Menge aufgenommen wird?\n",
    "- Geben Sie ein Beispiel.\n",
    "- Mit _in_ kann auch auf Sets prüfen, ob ein Element enthalten ist. Es funktioniert schneller als auf Listen, da sich Listen in sets umwandeln lassen, sollte man dies tun bevor man auf Elemente prüft. Geben Sie hierzu ein Beispiel.\n",
    "- Ein weiterer Vorteil dieser cast-Operation ist es, dass schnell eine Liste von Duplikaten bereinigt werden kann. Geben Sie auch hierzu ein Beispiel."
   ]
  },
  {
   "cell_type": "markdown",
   "metadata": {},
   "source": [
    "- sind praktisch Listen ohne Doppelte\n",
    "- Elemente werden nicht doppelt aufgenommen\n",
    "- Liste in set umwandeln und das dann wieder als Liste entfernt schnell und einfach alle doppelten\n",
    "- sets lassen sich schneller durchsuchen, da in einer Hashtabelle gesucht wird, d.h. O(1) anstelle von O(n)"
   ]
  },
  {
   "cell_type": "code",
   "execution_count": null,
   "metadata": {
    "collapsed": false
   },
   "outputs": [],
   "source": [
    "setx = set(\"Hallo das ist ein Löffelstiel mit Lirum und Larum\")\n",
    "print(setx) # jeder Buchstabe nur einmal\n",
    "\n",
    "sety = set(\"jjjjjjjjjjjjjjjjjjjjjjjjjjjjjjjjjjjjjjjjjjjjjjjj\")\n",
    "print(sety)\n",
    "\n",
    "setlist = set([\"das\", \"ist\", \"eine\", \"liste\"]) # Liste umwandeln\n",
    "print(setlist)\n",
    "\n",
    "print(True if \"das\" in setlist else False)\n",
    "\n",
    "listee = [1,4,3,2,1,1,2,3,4,1,1,2,2,2,2,2,2,2,3,3,3,3,3,3,4,5,6,7,8,6,5,4,4,3,2,1]\n",
    "\n",
    "print(list(set(listee))) # weg mit den Doppelten\n"
   ]
  },
  {
   "cell_type": "code",
   "execution_count": null,
   "metadata": {
    "collapsed": false
   },
   "outputs": [],
   "source": []
  },
  {
   "cell_type": "markdown",
   "metadata": {},
   "source": [
    "## Aussagenlogik\n",
    "Boolsche Werte funktionieren in Python wie in anderen Sprachen. Es wird zwischen _True_ und _False_ unterschieden. Boolsche Operatoren and, or, not werden in Python ausgeschrieben, Vergleichsoperatoren nicht."
   ]
  },
  {
   "cell_type": "code",
   "execution_count": null,
   "metadata": {
    "collapsed": false
   },
   "outputs": [],
   "source": [
    "# boolean operators\n",
    "print (True and True) \n",
    "print (True or False)\n",
    "print (not False)"
   ]
  },
  {
   "cell_type": "code",
   "execution_count": null,
   "metadata": {
    "collapsed": false
   },
   "outputs": [],
   "source": [
    "# comparison operators\n",
    "print (1 > 0)  # x greater as y x > y\n",
    "print (1 < 0)  # x smaller as y, x < y\n",
    "print (1 > 1, 1 < 1) # both false\n",
    "print (1 >= 0) # x greater or equal to y, x => y\n",
    "print (1 <= 0) # x smaller or equal to y, x =< y\n",
    "\n",
    "print (\"---\")\n",
    "\n",
    "x = [1,0]\n",
    "y = z= [1,0]\n",
    "print (x == y) # tests of equality \n",
    "print (y == z) \n",
    "print (x is y) # tests if objects are identical?\n",
    "print (y is z)  "
   ]
  },
  {
   "cell_type": "markdown",
   "metadata": {},
   "source": [
    "In diesem Zusammenhang sind die Schlüsselwörter _all_ und _any_ in Python sehr interessant. Beide Funktionen nehmen eine Liste als Argument an. Sofern kein Element in der Liste den Wert False besitzten gibt _all_ den Wert True zurück. Hingegen reicht es bei _any_ aus, dass ein Element der Liste den Wert True besitzt, um ein True zurückzugeben."
   ]
  },
  {
   "cell_type": "code",
   "execution_count": null,
   "metadata": {
    "collapsed": false
   },
   "outputs": [],
   "source": [
    "print (all([True, 3, not False, 2 > 0, {2}]))\n",
    "print (all([True, 3, not False, 2 > 0, {}]))\n",
    "print (any([True, 3, not False, 2 > 0, {2}]))\n",
    "print (all([])) # no element is False -> True\n",
    "print (any([])) # no element is True, cause there are no elements -> False"
   ]
  },
  {
   "cell_type": "markdown",
   "metadata": {},
   "source": [
    "## Sortieren von Listen"
   ]
  },
  {
   "cell_type": "markdown",
   "metadata": {},
   "source": [
    "Eine weitere Funktion, welche jede Liste in Python besitzt, ist _sort_. Durch diese Funktion kann man eine Liste sortieren. Jedoch wird die Liste durch die Anwendung von _sort_ wirklich verändert. Eine weitere Möglichkeit eine Liste zu sortieren und dabei nicht ändern bietet _sorted_. Hier ein Beispiel:"
   ]
  },
  {
   "cell_type": "code",
   "execution_count": null,
   "metadata": {
    "collapsed": false
   },
   "outputs": [],
   "source": [
    "abc = [\"d\", \"b\",\"a\",\"g\",\"h\",\"z\",\"x\"]\n",
    "print (sorted(abc)) # sorts the list without touching the object\n",
    "print (abc)\n",
    "print (\"---\")\n",
    "abc.sort()  # runs a sort funtion on the object\n",
    "print (abc)"
   ]
  },
  {
   "cell_type": "markdown",
   "metadata": {},
   "source": [
    "Beide Funktionen _sort_ und _sorted_ sortieren eine Liste aufsteigend vom kleinsten zum größten Element, indem sie die Elemente miteinander vergleichen.\n",
    "\n",
    "Möchte man diese standardmäßige Reihenfolge ändern, so kann man durch setzten des Parameters _reverse=True_ eine aufsteigende Liste erzeugen. Zusätzlich können durch den Parameter _key_ nicht die Elemente selbst mit einander verglichen werden, sondern die Ergebnisse einer spezifizierten Funktion."
   ]
  },
  {
   "cell_type": "code",
   "execution_count": null,
   "metadata": {
    "collapsed": false
   },
   "outputs": [],
   "source": [
    "# print a list in descending order of their absolute values\n",
    "print(sorted([1,-2,-5,7,-11], key = abs, reverse=True))"
   ]
  },
  {
   "cell_type": "markdown",
   "metadata": {},
   "source": [
    "## Generator und List Comprehensions\n",
    "\n",
    "Ein Generator erzeugt ein Objekt, welches sich gut iterieren lässt. Eine tolle Eigenschaft von _range()_ in Python 3.x ist es, dass die Werte erst produziert werden, wenn diese gebraucht werden (lazy). Mit _range()_ haben wir also ein flexibles Werkzeug zum Erzeugen eines passenden Iterators."
   ]
  },
  {
   "cell_type": "code",
   "execution_count": null,
   "metadata": {
    "collapsed": false
   },
   "outputs": [],
   "source": [
    "# Iterate from 0 to 9, range starts at index 0\n",
    "for x in range(10):\n",
    "    print (x)\n",
    "print (\"---\")\n",
    "    \n",
    "# you can customize the iterator with range(start,stop,step) \n",
    "for x in range(10,20,2):\n",
    "    print (x)\n",
    "print (\"---\")\n",
    "\n",
    "# range is like a list and you can cast it to one\n",
    "print(range(10,20,2))\n",
    "print(list(range(10,20,2)))"
   ]
  },
  {
   "cell_type": "markdown",
   "metadata": {},
   "source": [
    "List Comprehension ist in Python relativ häufig. Hierbei wandeln wir eine Liste in eine andere Liste um, indem man nur bestimmte Elemente auswählt, Elemente gezielt umwandelt oder beides."
   ]
  },
  {
   "cell_type": "code",
   "execution_count": null,
   "metadata": {
    "collapsed": false
   },
   "outputs": [],
   "source": [
    "even_only = ([x for x in range(10) if x % 2 == 0]) # iterate over all number between 0 and 9 that are even\n",
    "squares = [x * x for x in range(10)]               # iterate over 0-9 and square the number\n",
    "even_squares = [x * x for x in even_only]          # iterate over even numbers between 0-9 and square them\n",
    "print (even_only)\n",
    "print (squares)\n",
    "print (even_squares)\n",
    "\n",
    "zeros = [0 for _ in even_only] # you can use a wildcard if you do not need a variable of the iteration item\n",
    "print (zeros)\n",
    "\n",
    "# You can use multiple for loop for list compresension\n",
    "permutation = [(x,y) \n",
    "               for x in range(3) \n",
    "               for y in range(3)]\n",
    "print (permutation)\n",
    "\n",
    "# You can use the parameter from one loop in another one\n",
    "odd_permutation = [(x,y) \n",
    "               for x in range(5) \n",
    "               for y in range(x+1,5)]\n",
    "print (odd_permutation)"
   ]
  },
  {
   "cell_type": "markdown",
   "metadata": {},
   "source": [
    "Neben dem Erzeugen von Listen können wir auf diese Weise auch Dictionaries oder Sets generieren."
   ]
  },
  {
   "cell_type": "code",
   "execution_count": null,
   "metadata": {
    "collapsed": false
   },
   "outputs": [],
   "source": [
    "square_dict = { x : x * x for x in range(5)}\n",
    "square_set = { x * x for x in [-2,-1,0,1,2]}\n",
    "print(square_dict)\n",
    "print(square_set)"
   ]
  },
  {
   "cell_type": "markdown",
   "metadata": {},
   "source": [
    "## Zufall\n",
    "- Im Bereich des Machine Learning ist es häufig notwendig Zufallszahlen zu generieren. Schauen Sie sich das Modul _random_ an und erläutern Sie es mit den wichtigsten Funktionen.\n",
    "- Erklären Sie die Funktion _random()_\n",
    "- Geben Sie ein Beispiel wie man eine Zufallszahl erzeugt oder eine Liste von Zufallszahlen. Verwenden Sie dazu _range()_.\n",
    "- Erläutern Sie _seed()_ und geben ein Beispiel.\n",
    "- Was macht die Funktion _randrange()_? Erläutern Sie und geben ein Beispiel.\n",
    "- Erklären Sie die Funktionen _shuffle(), choice() und sample()_. Unterlegen Sie die Erläuterungen mit Beispielen."
   ]
  },
  {
   "cell_type": "markdown",
   "metadata": {},
   "source": [
    "### random() \n",
    "\n",
    "- gibt einen Zufallswert vom Typ float zurück, für den gilt 0<= Wert < 1\n",
    "- kann nicht direkt benutzt werden, es muss erst das modul random importiert und ein statisches random-Objekt erzeugt werden\n"
   ]
  },
  {
   "cell_type": "code",
   "execution_count": null,
   "metadata": {
    "collapsed": false
   },
   "outputs": [],
   "source": [
    "import random as rand\n",
    "\n",
    "print (\"Zufallswert: \", rand.random())"
   ]
  },
  {
   "cell_type": "markdown",
   "metadata": {},
   "source": [
    "### range() "
   ]
  },
  {
   "cell_type": "code",
   "execution_count": null,
   "metadata": {
    "collapsed": false
   },
   "outputs": [],
   "source": [
    "zufallsliste = [rand.random() for _ in range(10)]\n",
    "\n",
    "print(zufallsliste)"
   ]
  },
  {
   "cell_type": "markdown",
   "metadata": {},
   "source": [
    "### seed()\n",
    "- Startwert für den Algorithmus, der \"zufällig\" eine Zahl errechnet\n",
    "- bei gleichem Seed kommt immer die gleiche \"Zufallszahl\" heraus\n",
    "- muss vor allen anderen random() Aufrufen stehen"
   ]
  },
  {
   "cell_type": "code",
   "execution_count": null,
   "metadata": {
    "collapsed": false,
    "scrolled": true
   },
   "outputs": [],
   "source": [
    "print (\"Zufallswert: \", rand.random()) # irgendwas\n",
    "\n",
    "rand.seed(10)\n",
    "print (\"Zufallswert: \", rand.random()) # irgendwas mit seed 10\n",
    "\n",
    "print (\"Zufallswert: \", rand.random()) # irgendwas neues\n",
    "\n",
    "rand.seed(10)\n",
    "print (\"Zufallswert: \", rand.random()) # das gleiche wie \"irgendwas mit seed 10\""
   ]
  },
  {
   "cell_type": "markdown",
   "metadata": {},
   "source": [
    "### randrange()\n",
    "- gibt zufällig einen Wert aus range(start, stop, step) zurück"
   ]
  },
  {
   "cell_type": "code",
   "execution_count": null,
   "metadata": {
    "collapsed": false
   },
   "outputs": [],
   "source": [
    "print(\"Irgendwas Gerades zwischen 0 und 100: \", rand.randrange(0,100,2))\n",
    "\n",
    "print(\"Irgendwas zwischen 0 und 10: \", rand.randrange(10))"
   ]
  },
  {
   "cell_type": "markdown",
   "metadata": {},
   "source": [
    "### shuffle, choice, sample\n",
    "- shuffle() würfelt die Elemente einer Liste \"in place\" durcheinander, d.h. die Liste wird verändert\n",
    "- choice() wählt zufällig einen Wert aus einer Sequenz aus (Liste, Tupel, etc...)\n",
    "- sample() wählt aus einer Liste zufällig eine spezifizierte Anzahl von Elemente in einer neuen Liste zurück"
   ]
  },
  {
   "cell_type": "code",
   "execution_count": null,
   "metadata": {
    "collapsed": false
   },
   "outputs": [],
   "source": [
    "list_zufall = [1,2,3,4,5]\n",
    "string = \"hallo das ist ein test\"\n",
    "\n",
    "rand.shuffle(list_zufall)\n",
    "print(\"Shuffel1: \", list_zufall)\n",
    "\n",
    "rand.shuffle(list_zufall)\n",
    "print(\"Shuffel2: \", list_zufall)\n",
    "\n",
    "print(\"Choice1: \", rand.choice(list_zufall))\n",
    "print(\"Choice2: \", rand.choice(list_zufall))\n",
    "\n",
    "print(\"Sample1: \", rand.sample(list_zufall, 2))\n",
    "print(\"Sample2: \", rand.sample(string, 10))"
   ]
  },
  {
   "cell_type": "markdown",
   "metadata": {},
   "source": [
    "## Objektorientierte Programmierung\n",
    "\n",
    "In Python können wir auch Klassen definieren, die Daten und Funtkionen zu deren Bearbeitung kapseln. Dies wird uns helfen komplexeren Code besser zu strukturieren und diesen so lesbar halten. Hier wird der Aufbau einer Klasse anhand eines Beispiels kurz skizziert."
   ]
  },
  {
   "cell_type": "code",
   "execution_count": null,
   "metadata": {
    "collapsed": false
   },
   "outputs": [],
   "source": [
    "# Classnames are written in CamelCase\n",
    "class FibGenerator:\n",
    "    '''\n",
    "    Please add a comment about your class at the beginning\n",
    "    Iterator that yields numbers in the Fibonacci sequence\n",
    "    '''\n",
    "    # now you can declare the methods\n",
    "    # by convention the first parameter is always self\n",
    "    def __init__(self, max):\n",
    "        # __init__ is the constructor of the class and gets called with a new instance\n",
    "        self.max = max\n",
    "\n",
    "    def __iter__(self):\n",
    "        # An iterable object is an object that implements __iter__. __iter__ is expected to return an iterator object. \n",
    "        self.a = 0\n",
    "        self.b = 1\n",
    "        return self\n",
    "\n",
    "    def __next__(self):\n",
    "        # An iterable Object needs to implement a __next__ function\n",
    "        fib = self.a\n",
    "        if fib > self.max:\n",
    "            raise StopIteration\n",
    "        self.a, self.b = self.b, self.a + self.b\n",
    "        return fib\n",
    "    \n",
    "myGen = FibGenerator(25)\n",
    "print(list(myGen))"
   ]
  },
  {
   "cell_type": "markdown",
   "metadata": {},
   "source": [
    "## Crash into Python - done\n",
    "\n",
    "Sollten Sie hier angekommen sein, besuchen Sie die [CodeAcademy](https://www.codecademy.com/learn/python) und testen Sie ihr neu erworbenes Wissen bzw. vertiefen es. "
   ]
  },
  {
   "cell_type": "code",
   "execution_count": null,
   "metadata": {
    "collapsed": true
   },
   "outputs": [],
   "source": []
  }
 ],
 "metadata": {
  "anaconda-cloud": {},
  "kernelspec": {
   "display_name": "Python [conda env:GesundheitsInfo]",
   "language": "python",
   "name": "conda-env-GesundheitsInfo-py"
  },
  "language_info": {
   "codemirror_mode": {
    "name": "ipython",
    "version": 3
   },
   "file_extension": ".py",
   "mimetype": "text/x-python",
   "name": "python",
   "nbconvert_exporter": "python",
   "pygments_lexer": "ipython3",
   "version": "3.5.2"
  }
 },
 "nbformat": 4,
 "nbformat_minor": 0
}
